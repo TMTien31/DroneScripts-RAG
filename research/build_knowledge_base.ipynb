{
 "cells": [
  {
   "cell_type": "code",
   "execution_count": 1,
   "id": "0e6be8c1",
   "metadata": {},
   "outputs": [
    {
     "data": {
      "text/plain": [
       "'e:\\\\LangChain project\\\\DroneScripts-RAG\\\\research'"
      ]
     },
     "execution_count": 1,
     "metadata": {},
     "output_type": "execute_result"
    }
   ],
   "source": [
    "%pwd"
   ]
  },
  {
   "cell_type": "code",
   "execution_count": 2,
   "id": "9fe9a169",
   "metadata": {},
   "outputs": [],
   "source": [
    "import os\n",
    "os.chdir(\"../\")"
   ]
  },
  {
   "cell_type": "code",
   "execution_count": 3,
   "id": "3067f412",
   "metadata": {},
   "outputs": [
    {
     "data": {
      "text/plain": [
       "'e:\\\\LangChain project\\\\DroneScripts-RAG'"
      ]
     },
     "execution_count": 3,
     "metadata": {},
     "output_type": "execute_result"
    }
   ],
   "source": [
    "%pwd"
   ]
  },
  {
   "cell_type": "code",
   "execution_count": 4,
   "id": "f2414a37",
   "metadata": {},
   "outputs": [],
   "source": [
    "from langchain.document_loaders import PythonLoader\n",
    "from langchain.text_splitter import RecursiveCharacterTextSplitter"
   ]
  },
  {
   "cell_type": "code",
   "execution_count": 43,
   "id": "cff49018",
   "metadata": {},
   "outputs": [],
   "source": [
    "file_path = \"Data/client.py\""
   ]
  },
  {
   "cell_type": "code",
   "execution_count": 44,
   "id": "5e4ceb71",
   "metadata": {},
   "outputs": [
    {
     "name": "stdout",
     "output_type": "stream",
     "text": [
      "[Document(metadata={'source': 'Data/client.py'}, page_content='from __future__ import print_function\\n\\nfrom .utils import *\\nfrom .types import *\\n\\nimport msgpackrpc #install as admin: pip install msgpack-rpc-python\\nimport numpy as np #pip install numpy\\nimport msgpack\\nimport time\\nimport math\\nimport logging\\n\\nclass VehicleClient:\\n    def __init__(self, ip = \"\", port = 41451, timeout_value = 3600):\\n        if (ip == \"\"):\\n            ip = \"127.0.0.1\"\\n        self.client = msgpackrpc.Client(msgpackrpc.Address(ip, port), timeout = timeout_value, pack_encoding = \\'utf-8\\', unpack_encoding = \\'utf-8\\')\\n\\n#----------------------------------- Common vehicle APIs ---------------------------------------------\\n    def reset(self):\\n        \"\"\"\\n        Reset the vehicle to its original starting state\\n\\n        Note that you must call `enableApiControl` and `armDisarm` again after the call to reset\\n        \"\"\"\\n        self.client.call(\\'reset\\')\\n\\n    def ping(self):\\n        \"\"\"\\n        If connection is established then this call will return true otherwise it will be blocked until timeout\\n\\n        Returns:\\n            bool:\\n        \"\"\"\\n        return self.client.call(\\'ping\\')\\n\\n    def getClientVersion(self):\\n        return 1 # sync with C++ client\\n\\n    def getServerVersion(self):\\n        return self.client.call(\\'getServerVersion\\')\\n\\n    def getMinRequiredServerVersion(self):\\n        return 1 # sync with C++ client\\n\\n    def getMinRequiredClientVersion(self):\\n        return self.client.call(\\'getMinRequiredClientVersion\\')\\n\\n#basic flight control\\n    def enableApiControl(self, is_enabled, vehicle_name = \\'\\'):\\n        \"\"\"\\n        Enables or disables API control for vehicle corresponding to vehicle_name\\n\\n        Args:\\n            is_enabled (bool): True to enable, False to disable API control\\n            vehicle_name (str, optional): Name of the vehicle to send this command to\\n        \"\"\"\\n        self.client.call(\\'enableApiControl\\', is_enabled, vehicle_name)\\n\\n    def isApiControlEnabled(self, vehicle_name = \\'\\'):\\n        \"\"\"\\n        Returns true if API control is established.\\n\\n        If false (which is default) then API calls would be ignored. After a successful call to `enableApiControl`, `isApiControlEnabled` should return true.\\n\\n        Args:\\n            vehicle_name (str, optional): Name of the vehicle\\n\\n        Returns:\\n            bool: If API control is enabled\\n        \"\"\"\\n        return self.client.call(\\'isApiControlEnabled\\', vehicle_name)\\n\\n    def armDisarm(self, arm, vehicle_name = \\'\\'):\\n        \"\"\"\\n        Arms or disarms vehicle\\n\\n        Args:\\n            arm (bool): True to arm, False to disarm the vehicle\\n            vehicle_name (str, optional): Name of the vehicle to send this command to\\n\\n        Returns:\\n            bool: Success\\n        \"\"\"\\n        return self.client.call(\\'armDisarm\\', arm, vehicle_name)\\n\\n    def simPause(self, is_paused):\\n        \"\"\"\\n        Pauses simulation\\n\\n        Args:\\n            is_paused (bool): True to pause the simulation, False to release\\n        \"\"\"\\n        self.client.call(\\'simPause\\', is_paused)\\n\\n    def simIsPause(self):\\n        \"\"\"\\n        Returns true if the simulation is paused\\n\\n        Returns:\\n            bool: If the simulation is paused\\n        \"\"\"\\n        return self.client.call(\"simIsPaused\")\\n\\n    def simContinueForTime(self, seconds):\\n        \"\"\"\\n        Continue the simulation for the specified number of seconds\\n\\n        Args:\\n            seconds (float): Time to run the simulation for\\n        \"\"\"\\n        self.client.call(\\'simContinueForTime\\', seconds)\\n\\n    def simContinueForFrames(self, frames):\\n        \"\"\"\\n        Continue (or resume if paused) the simulation for the specified number of frames, after which the simulation will be paused.\\n\\n        Args:\\n            frames (int): Frames to run the simulation for\\n        \"\"\"\\n        self.client.call(\\'simContinueForFrames\\', frames)\\n\\n    def getHomeGeoPoint(self, vehicle_name = \\'\\'):\\n        \"\"\"\\n        Get the Home location of the vehicle\\n\\n        Args:\\n            vehicle_name (str, optional): Name of vehicle to get home location of\\n\\n        Returns:\\n            GeoPoint: Home location of the vehicle\\n        \"\"\"\\n        return GeoPoint.from_msgpack(self.client.call(\\'getHomeGeoPoint\\', vehicle_name))\\n\\n    def confirmConnection(self):\\n        \"\"\"\\n        Checks state of connection every 1 sec and reports it in Console so user can see the progress for connection.\\n        \"\"\"\\n        if self.ping():\\n            print(\"Connected!\")\\n        else:\\n             print(\"Ping returned false!\")\\n        server_ver = self.getServerVersion()\\n        client_ver = self.getClientVersion()\\n        server_min_ver = self.getMinRequiredServerVersion()\\n        client_min_ver = self.getMinRequiredClientVersion()\\n\\n        ver_info = \"Client Ver:\" + str(client_ver) + \" (Min Req: \" + str(client_min_ver) + \\\\\\n              \"), Server Ver:\" + str(server_ver) + \" (Min Req: \" + str(server_min_ver) + \")\"\\n\\n        if server_ver < server_min_ver:\\n            print(ver_info, file=sys.stderr)\\n            print(\"AirSim server is of older version and not supported by this client. Please upgrade!\")\\n        elif client_ver < client_min_ver:\\n            print(ver_info, file=sys.stderr)\\n            print(\"AirSim client is of older version and not supported by this server. Please upgrade!\")\\n        else:\\n            print(ver_info)\\n        print(\\'\\')\\n\\n    def simSetLightIntensity(self, light_name, intensity):\\n        \"\"\"\\n        Change intensity of named light\\n\\n        Args:\\n            light_name (str): Name of light to change\\n            intensity (float): New intensity value\\n\\n        Returns:\\n            bool: True if successful, otherwise False\\n        \"\"\"\\n        return self.client.call(\"simSetLightIntensity\", light_name, intensity)\\n\\n    def simSwapTextures(self, tags, tex_id = 0, component_id = 0, material_id = 0):\\n        \"\"\"\\n        Runtime Swap Texture API\\n\\n        See https://microsoft.github.io/AirSim/retexturing/ for details\\n\\n        Args:\\n            tags (str): string of \",\" or \", \" delimited tags to identify on which actors to perform the swap\\n            tex_id (int, optional): indexes the array of textures assigned to each actor undergoing a swap\\n\\n                                    If out-of-bounds for some object\\'s texture set, it will be taken modulo the number of textures that were available\\n            component_id (int, optional):\\n            material_id (int, optional):\\n\\n        Returns:\\n            list[str]: List of objects which matched the provided tags and had the texture swap perfomed\\n        \"\"\"\\n        return self.client.call(\"simSwapTextures\", tags, tex_id, component_id, material_id)\\n\\n    def simSetObjectMaterial(self, object_name, material_name, component_id = 0):\\n        \"\"\"\\n        Runtime Swap Texture API\\n        See https://microsoft.github.io/AirSim/retexturing/ for details\\n        Args:\\n            object_name (str): name of object to set material for\\n            material_name (str): name of material to set for object\\n            component_id (int, optional) : index of material elements\\n\\n        Returns:\\n            bool: True if material was set\\n        \"\"\"\\n        return self.client.call(\"simSetObjectMaterial\", object_name, material_name, component_id)\\n\\n    def simSetObjectMaterialFromTexture(self, object_name, texture_path, component_id = 0):\\n        \"\"\"\\n        Runtime Swap Texture API\\n        See https://microsoft.github.io/AirSim/retexturing/ for details\\n        Args:\\n            object_name (str): name of object to set material for\\n            texture_path (str): path to texture to set for object\\n            component_id (int, optional) : index of material elements\\n\\n        Returns:\\n            bool: True if material was set\\n        \"\"\"\\n        return self.client.call(\"simSetObjectMaterialFromTexture\", object_name, texture_path, component_id)\\n\\n#camera control\\n#simGetImage returns compressed png in array of bytes\\n#image_type uses one of the ImageType members\\n    def simGetImage(self, camera_name, image_type, vehicle_name = \\'\\', external = False):\\n        \"\"\"\\n        Get a single image\\n\\n        Returns bytes of png format image which can be dumped into abinary file to create .png image\\n        `string_to_uint8_array()` can be used to convert into Numpy unit8 array\\n        See https://microsoft.github.io/AirSim/image_apis/ for details\\n\\n        Args:\\n            camera_name (str): Name of the camera, for backwards compatibility, ID numbers such as 0,1,etc. can also be used\\n            image_type (ImageType): Type of image required\\n            vehicle_name (str, optional): Name of the vehicle with the camera\\n            external (bool, optional): Whether the camera is an External Camera\\n\\n        Returns:\\n            Binary string literal of compressed png image\\n        \"\"\"\\n#todo : in future remove below, it\\'s only for compatibility to pre v1.2\\n        camera_name = str(camera_name)\\n\\n#because this method returns std::vector < uint8>, msgpack decides to encode it as a string unfortunately.\\n        result = self.client.call(\\'simGetImage\\', camera_name, image_type, vehicle_name, external)\\n        if (result == \"\" or result == \"\\\\0\"):\\n            return None\\n        return result\\n\\n#camera control\\n#simGetImage returns compressed png in array of bytes\\n#image_type uses one of the ImageType members\\n    def simGetImages(self, requests, vehicle_name = \\'\\', external = False):\\n        \"\"\"\\n        Get multiple images\\n\\n        See https://microsoft.github.io/AirSim/image_apis/ for details and examples\\n\\n        Args:\\n            requests (list[ImageRequest]): Images required\\n            vehicle_name (str, optional): Name of vehicle associated with the camera\\n            external (bool, optional): Whether the camera is an External Camera\\n\\n        Returns:\\n            list[ImageResponse]:\\n        \"\"\"\\n        responses_raw = self.client.call(\\'simGetImages\\', requests, vehicle_name, external)\\n        return [ImageResponse.from_msgpack(response_raw) for response_raw in responses_raw]\\n\\n\\n\\n#CinemAirSim\\n    def simGetPresetLensSettings(self, camera_name, vehicle_name = \\'\\', external = False):  \\n        result = self.client.call(\\'simGetPresetLensSettings\\', camera_name, vehicle_name, external)\\n        if (result == \"\" or result == \"\\\\0\"):\\n            return None\\n        return result\\n\\n    def simGetLensSettings(self, camera_name, vehicle_name = \\'\\', external = False):  \\n        result = self.client.call(\\'simGetLensSettings\\', camera_name, vehicle_name, external)\\n        if (result == \"\" or result == \"\\\\0\"):\\n            return None\\n        return result\\n\\n    def simSetPresetLensSettings(self, preset_lens_settings, camera_name, vehicle_name = \\'\\', external = False):  \\n        self.client.call(\"simSetPresetLensSettings\", preset_lens_settings, camera_name, vehicle_name, external)\\n\\n    def simGetPresetFilmbackSettings(self, camera_name, vehicle_name = \\'\\', external = False):  \\n        result = self.client.call(\\'simGetPresetFilmbackSettings\\', camera_name, vehicle_name, external)\\n        if (result == \"\" or result == \"\\\\0\"):\\n            return None\\n        return result\\n\\n    def simSetPresetFilmbackSettings(self, preset_filmback_settings, camera_name, vehicle_name = \\'\\', external = False):  \\n        self.client.call(\"simSetPresetFilmbackSettings\", preset_filmback_settings, camera_name, vehicle_name, external)\\n\\n    def simGetFilmbackSettings(self, camera_name, vehicle_name = \\'\\', external = False):  \\n        result = self.client.call(\\'simGetFilmbackSettings\\', camera_name, vehicle_name, external)\\n        if (result == \"\" or result == \"\\\\0\"):\\n            return None\\n        return result\\n\\n    def simSetFilmbackSettings(self, sensor_width, sensor_height, camera_name, vehicle_name = \\'\\', external = False):  \\n        return self.client.call(\"simSetFilmbackSettings\", sensor_width, sensor_height, camera_name, vehicle_name, external)\\n\\n    def simGetFocalLength(self, camera_name, vehicle_name = \\'\\', external = False):  \\n        return self.client.call(\"simGetFocalLength\", camera_name, vehicle_name, external)\\n\\n    def simSetFocalLength(self, focal_length, camera_name, vehicle_name = \\'\\', external = False):  \\n        self.client.call(\"simSetFocalLength\", focal_length, camera_name, vehicle_name, external)\\n\\n    def simEnableManualFocus(self, enable, camera_name, vehicle_name = \\'\\', external = False):  \\n        self.client.call(\"simEnableManualFocus\", enable, camera_name, vehicle_name, external)\\n\\n    def simGetFocusDistance(self, camera_name, vehicle_name = \\'\\', external = False):  \\n        return self.client.call(\"simGetFocusDistance\", camera_name, vehicle_name, external)\\n\\n    def simSetFocusDistance(self, focus_distance, camera_name, vehicle_name = \\'\\', external = False):  \\n        self.client.call(\"simSetFocusDistance\", focus_distance, camera_name, vehicle_name, external)\\n\\n    def simGetFocusAperture(self, camera_name, vehicle_name = \\'\\', external = False):  \\n        return self.client.call(\"simGetFocusAperture\", camera_name, vehicle_name, external)\\n\\n    def simSetFocusAperture(self, focus_aperture, camera_name, vehicle_name = \\'\\', external = False):  \\n        self.client.call(\"simSetFocusAperture\", focus_aperture, camera_name, vehicle_name, external)\\n\\n    def simEnableFocusPlane(self, enable, camera_name, vehicle_name = \\'\\', external = False):  \\n        self.client.call(\"simEnableFocusPlane\", enable, camera_name, vehicle_name, external)\\n\\n    def simGetCurrentFieldOfView(self, camera_name, vehicle_name = \\'\\', external = False):  \\n        return self.client.call(\"simGetCurrentFieldOfView\", camera_name, vehicle_name, external)\\n\\n#End CinemAirSim     \\n    def simTestLineOfSightToPoint(self, point, vehicle_name = \\'\\'):\\n        \"\"\"\\n        Returns whether the target point is visible from the perspective of the inputted vehicle\\n\\n        Args:\\n            point (GeoPoint): target point\\n            vehicle_name (str, optional): Name of vehicle\\n\\n        Returns:\\n            [bool]: Success\\n        \"\"\"\\n        return self.client.call(\\'simTestLineOfSightToPoint\\', point, vehicle_name)\\n\\n    def simTestLineOfSightBetweenPoints(self, point1, point2):\\n        \"\"\"\\n        Returns whether the target point is visible from the perspective of the source point\\n\\n        Args:\\n            point1 (GeoPoint): source point\\n            point2 (GeoPoint): target point\\n\\n        Returns:\\n            [bool]: Success\\n        \"\"\"\\n        return self.client.call(\\'simTestLineOfSightBetweenPoints\\', point1, point2)\\n\\n    def simGetWorldExtents(self):\\n        \"\"\"\\n        Returns a list of GeoPoints representing the minimum and maximum extents of the world\\n\\n        Returns:\\n            list[GeoPoint]\\n        \"\"\"\\n        responses_raw = self.client.call(\\'simGetWorldExtents\\')\\n        return [GeoPoint.from_msgpack(response_raw) for response_raw in responses_raw]\\n\\n    def simRunConsoleCommand(self, command):\\n        \"\"\"\\n        Allows the client to execute a command in Unreal\\'s native console, via an API.\\n        Affords access to the countless built-in commands such as \"stat unit\", \"stat fps\", \"open [map]\", adjust any config settings, etc. etc.\\n        Allows the user to create bespoke APIs very easily, by adding a custom event to the level blueprint, and then calling the console command \"ce MyEventName [args]\". No recompilation of AirSim needed!\\n\\n        Args:\\n            command ([string]): Desired Unreal Engine Console command to run\\n\\n        Returns:\\n            [bool]: Success\\n        \"\"\"\\n        return self.client.call(\\'simRunConsoleCommand\\', command)\\n\\n\\n#Recording APIs\\n    def startRecording(self):\\n        \"\"\"\\n        Start Recording\\n\\n        Recording will be done according to the settings\\n        \"\"\"\\n        self.client.call(\\'startRecording\\')\\n\\n    def stopRecording(self):\\n        \"\"\"\\n        Stop Recording\\n        \"\"\"\\n        self.client.call(\\'stopRecording\\')\\n\\n    def isRecording(self):\\n        \"\"\"\\n        Whether Recording is running or not\\n\\n        Returns:\\n            bool: True if Recording, else False\\n        \"\"\"\\n        return self.client.call(\\'isRecording\\')\\n\\n    def simSetWind(self, wind):\\n        \"\"\"\\n        Set simulated wind, in World frame, NED direction, m/s\\n\\n        Args:\\n            wind (Vector3r): Wind, in World frame, NED direction, in m/s\\n        \"\"\"\\n        self.client.call(\\'simSetWind\\', wind)\\n\\n    def simCreateVoxelGrid(self, position, x, y, z, res, of):\\n        \"\"\"\\n        Construct and save a binvox-formatted voxel grid of environment\\n\\n        Args:\\n            position (Vector3r): Position around which voxel grid is centered in m\\n            x, y, z (int): Size of each voxel grid dimension in m\\n            res (float): Resolution of voxel grid in m\\n            of (str): Name of output file to save voxel grid as\\n\\n        Returns:\\n            bool: True if output written to file successfully, else False\\n        \"\"\"\\n        return self.client.call(\\'simCreateVoxelGrid\\', position, x, y, z, res, of)\\n\\n#----------------------------------- Multirotor APIs ---------------------------------------------\\nclass MultirotorClient(VehicleClient, object):\\n    def __init__(self, ip = \"\", port = 41451, timeout_value = 3600):\\n        super(MultirotorClient, self).__init__(ip, port, timeout_value)\\n\\n    def takeoffAsync(self, timeout_sec = 20, vehicle_name = \\'\\'):\\n        \"\"\"\\n        Takeoff vehicle to 3m above ground. Vehicle should not be moving when this API is used\\n\\n        Args:\\n            timeout_sec (int, optional): Timeout for the vehicle to reach desired altitude\\n            vehicle_name (str, optional): Name of the vehicle to send this command to\\n\\n        Returns:\\n            msgpackrpc.future.Future: future. call .join() to wait for method to finish. Example: client.METHOD().join()\\n        \"\"\"\\n        return self.client.call_async(\\'takeoff\\', timeout_sec, vehicle_name)\\n\\n    def landAsync(self, timeout_sec = 60, vehicle_name = \\'\\'):\\n        \"\"\"\\n        Land the vehicle\\n\\n        Args:\\n            timeout_sec (int, optional): Timeout for the vehicle to land\\n            vehicle_name (str, optional): Name of the vehicle to send this command to\\n\\n        Returns:\\n            msgpackrpc.future.Future: future. call .join() to wait for method to finish. Example: client.METHOD().join()\\n        \"\"\"\\n        return self.client.call_async(\\'land\\', timeout_sec, vehicle_name)\\n\\n    def goHomeAsync(self, timeout_sec = 3e+38, vehicle_name = \\'\\'):\\n        \"\"\"\\n        Return vehicle to Home i.e. Launch location\\n\\n        Args:\\n            timeout_sec (int, optional): Timeout for the vehicle to reach desired altitude\\n            vehicle_name (str, optional): Name of the vehicle to send this command to\\n\\n        Returns:\\n            msgpackrpc.future.Future: future. call .join() to wait for method to finish. Example: client.METHOD().join()\\n        \"\"\"\\n        return self.client.call_async(\\'goHome\\', timeout_sec, vehicle_name)\\n\\n#APIs for control\\n    def moveByVelocityBodyFrameAsync(self, vx, vy, vz, duration, drivetrain = DrivetrainType.MaxDegreeOfFreedom, yaw_mode = YawMode(), vehicle_name = \\'\\'):\\n        \"\"\"\\n        Args:\\n            vx (float): desired velocity in the X axis of the vehicle\\'s local NED frame.\\n            vy (float): desired velocity in the Y axis of the vehicle\\'s local NED frame.\\n            vz (float): desired velocity in the Z axis of the vehicle\\'s local NED frame.\\n            duration (float): Desired amount of time (seconds), to send this command for\\n            drivetrain (DrivetrainType, optional):\\n            yaw_mode (YawMode, optional):\\n            vehicle_name (str, optional): Name of the multirotor to send this command to\\n\\n        Returns:\\n            msgpackrpc.future.Future: future. call .join() to wait for method to finish. Example: client.METHOD().join()\\n        \"\"\"\\n        return self.client.call_async(\\'moveByVelocityBodyFrame\\', vx, vy, vz, duration, drivetrain, yaw_mode, vehicle_name)\\n\\n    def moveByVelocityZBodyFrameAsync(self, vx, vy, z, duration, drivetrain = DrivetrainType.MaxDegreeOfFreedom, yaw_mode = YawMode(), vehicle_name = \\'\\'):\\n        \"\"\"\\n        Args:\\n            vx (float): desired velocity in the X axis of the vehicle\\'s local NED frame\\n            vy (float): desired velocity in the Y axis of the vehicle\\'s local NED frame\\n            z (float): desired Z value (in local NED frame of the vehicle)\\n            duration (float): Desired amount of time (seconds), to send this command for\\n            drivetrain (DrivetrainType, optional):\\n            yaw_mode (YawMode, optional):\\n            vehicle_name (str, optional): Name of the multirotor to send this command to\\n\\n        Returns:\\n            msgpackrpc.future.Future: future. call .join() to wait for method to finish. Example: client.METHOD().join()\\n        \"\"\"\\n\\n        return self.client.call_async(\\'moveByVelocityZBodyFrame\\', vx, vy, z, duration, drivetrain, yaw_mode, vehicle_name)\\n\\n    def moveByAngleZAsync(self, pitch, roll, z, yaw, duration, vehicle_name = \\'\\'):\\n        logging.warning(\"moveByAngleZAsync API is deprecated, use moveByRollPitchYawZAsync() API instead\")\\n        return self.client.call_async(\\'moveByRollPitchYawZ\\', roll, -pitch, -yaw, z, duration, vehicle_name)\\n\\n    def moveByAngleThrottleAsync(self, pitch, roll, throttle, yaw_rate, duration, vehicle_name = \\'\\'):\\n        logging.warning(\"moveByAngleThrottleAsync API is deprecated, use moveByRollPitchYawrateThrottleAsync() API instead\")\\n        return self.client.call_async(\\'moveByRollPitchYawrateThrottle\\', roll, -pitch, -yaw_rate, throttle, duration, vehicle_name)\\n\\n    def moveByVelocityAsync(self, vx, vy, vz, duration, drivetrain = DrivetrainType.MaxDegreeOfFreedom, yaw_mode = YawMode(), vehicle_name = \\'\\'):\\n        \"\"\"\\n        Args:\\n            vx (float): desired velocity in world (NED) X axis\\n            vy (float): desired velocity in world (NED) Y axis\\n            vz (float): desired velocity in world (NED) Z axis\\n            duration (float): Desired amount of time (seconds), to send this command for\\n            drivetrain (DrivetrainType, optional):\\n            yaw_mode (YawMode, optional):\\n            vehicle_name (str, optional): Name of the multirotor to send this command to\\n\\n        Returns:\\n            msgpackrpc.future.Future: future. call .join() to wait for method to finish. Example: client.METHOD().join()\\n        \"\"\"\\n        return self.client.call_async(\\'moveByVelocity\\', vx, vy, vz, duration, drivetrain, yaw_mode, vehicle_name)\\n\\n    def moveByVelocityZAsync(self, vx, vy, z, duration, drivetrain = DrivetrainType.MaxDegreeOfFreedom, yaw_mode = YawMode(), vehicle_name = \\'\\'):\\n        return self.client.call_async(\\'moveByVelocityZ\\', vx, vy, z, duration, drivetrain, yaw_mode, vehicle_name)\\n\\n    def moveOnPathAsync(self, path, velocity, timeout_sec = 3e+38, drivetrain = DrivetrainType.MaxDegreeOfFreedom, yaw_mode = YawMode(),\\n        lookahead = -1, adaptive_lookahead = 1, vehicle_name = \\'\\'):\\n        return self.client.call_async(\\'moveOnPath\\', path, velocity, timeout_sec, drivetrain, yaw_mode, lookahead, adaptive_lookahead, vehicle_name)\\n\\n    def moveToPositionAsync(self, x, y, z, velocity, timeout_sec = 3e+38, drivetrain = DrivetrainType.MaxDegreeOfFreedom, yaw_mode = YawMode(),\\n        lookahead = -1, adaptive_lookahead = 1, vehicle_name = \\'\\'):\\n        return self.client.call_async(\\'moveToPosition\\', x, y, z, velocity, timeout_sec, drivetrain, yaw_mode, lookahead, adaptive_lookahead, vehicle_name)\\n\\n    def moveToGPSAsync(self, latitude, longitude, altitude, velocity, timeout_sec = 3e+38, drivetrain = DrivetrainType.MaxDegreeOfFreedom, yaw_mode = YawMode(),\\n        lookahead = -1, adaptive_lookahead = 1, vehicle_name = \\'\\'):\\n        return self.client.call_async(\\'moveToGPS\\', latitude, longitude, altitude, velocity, timeout_sec, drivetrain, yaw_mode, lookahead, adaptive_lookahead, vehicle_name)\\n\\n    def moveToZAsync(self, z, velocity, timeout_sec = 3e+38, yaw_mode = YawMode(), lookahead = -1, adaptive_lookahead = 1, vehicle_name = \\'\\'):\\n        return self.client.call_async(\\'moveToZ\\', z, velocity, timeout_sec, yaw_mode, lookahead, adaptive_lookahead, vehicle_name)\\n\\n    def moveByManualAsync(self, vx_max, vy_max, z_min, duration, drivetrain = DrivetrainType.MaxDegreeOfFreedom, yaw_mode = YawMode(), vehicle_name = \\'\\'):\\n        \"\"\"\\n        - Read current RC state and use it to control the vehicles.\\n\\n        Parameters sets up the constraints on velocity and minimum altitude while flying. If RC state is detected to violate these constraints\\n        then that RC state would be ignored.\\n\\n        Args:\\n            vx_max (float): max velocity allowed in x direction\\n            vy_max (float): max velocity allowed in y direction\\n            vz_max (float): max velocity allowed in z direction\\n            z_min (float): min z allowed for vehicle position\\n            duration (float): after this duration vehicle would switch back to non-manual mode\\n            drivetrain (DrivetrainType): when ForwardOnly, vehicle rotates itself so that its front is always facing the direction of travel. If MaxDegreeOfFreedom then it doesn\\'t do that (crab-like movement)\\n            yaw_mode (YawMode): Specifies if vehicle should face at given angle (is_rate=False) or should be rotating around its axis at given rate (is_rate=True)\\n            vehicle_name (str, optional): Name of the multirotor to send this command to\\n        Returns:\\n            msgpackrpc.future.Future: future. call .join() to wait for method to finish. Example: client.METHOD().join()\\n        \"\"\"\\n        return self.client.call_async(\\'moveByManual\\', vx_max, vy_max, z_min, duration, drivetrain, yaw_mode, vehicle_name)\\n\\n    def rotateToYawAsync(self, yaw, timeout_sec = 3e+38, margin = 5, vehicle_name = \\'\\'):\\n        return self.client.call_async(\\'rotateToYaw\\', yaw, timeout_sec, margin, vehicle_name)\\n\\n    def rotateByYawRateAsync(self, yaw_rate, duration, vehicle_name = \\'\\'):\\n        return self.client.call_async(\\'rotateByYawRate\\', yaw_rate, duration, vehicle_name)\\n\\n    def hoverAsync(self, vehicle_name = \\'\\'):\\n        return self.client.call_async(\\'hover\\', vehicle_name)\\n\\n    def moveByRC(self, rcdata = RCData(), vehicle_name = \\'\\'):\\n        return self.client.call(\\'moveByRC\\', rcdata, vehicle_name)\\n\\n#query vehicle state\\n    def getMultirotorState(self, vehicle_name = \\'\\'):\\n        \"\"\"\\n        The position inside the returned MultirotorState is in the frame of the vehicle\\'s starting point\\n\\n        Args:\\n            vehicle_name (str, optional): Vehicle to get the state of\\n\\n        Returns:\\n            MultirotorState:\\n        \"\"\"\\n        return MultirotorState.from_msgpack(self.client.call(\\'getMultirotorState\\', vehicle_name))\\n    getMultirotorState.__annotations__ = {\\'return\\': MultirotorState}\\n#query rotor states\\n    def getRotorStates(self, vehicle_name = \\'\\'):\\n        \"\"\"\\n        Used to obtain the current state of all a multirotor\\'s rotors. The state includes the speeds,\\n        thrusts and torques for all rotors.\\n\\n        Args:\\n            vehicle_name (str, optional): Vehicle to get the rotor state of\\n\\n        Returns:\\n            RotorStates: Containing a timestamp and the speed, thrust and torque of all rotors.\\n        \"\"\"\\n        return RotorStates.from_msgpack(self.client.call(\\'getRotorStates\\', vehicle_name))\\n    getRotorStates.__annotations__ = {\\'return\\': RotorStates}')]\n"
     ]
    }
   ],
   "source": [
    "loader = PythonLoader(file_path)\n",
    "\n",
    "documents = loader.load()\n",
    "print(documents)"
   ]
  },
  {
   "cell_type": "code",
   "execution_count": 45,
   "id": "410e8321",
   "metadata": {},
   "outputs": [
    {
     "data": {
      "text/plain": [
       "27175"
      ]
     },
     "execution_count": 45,
     "metadata": {},
     "output_type": "execute_result"
    }
   ],
   "source": [
    "len(documents[0].page_content)"
   ]
  },
  {
   "cell_type": "code",
   "execution_count": 46,
   "id": "3d4eb610",
   "metadata": {},
   "outputs": [
    {
     "data": {
      "text/plain": [
       "'from __future__ import print_function\\n\\nfrom .utils import *\\nfrom .types import *\\n\\nimport msgpackrpc #install as admin: pip install msgpack-rpc-python\\nimport numpy as np #pip install numpy\\nimport msgpack\\nimport time\\nimport math\\nimport logging\\n\\nclass VehicleClient:\\n    def __init__(self, ip = \"\", port = 41451, timeout_value = 3600):\\n        if (ip == \"\"):\\n            ip = \"127.0.0.1\"\\n        self.client = msgpackrpc.Client(msgpackrpc.Address(ip, port), timeout = timeout_value, pack_encoding = \\'utf-8\\', unpack_encoding = \\'utf-8\\')\\n\\n#----------------------------------- Common vehicle APIs ---------------------------------------------\\n    def reset(self):\\n        \"\"\"\\n        Reset the vehicle to its original starting state\\n\\n        Note that you must call `enableApiControl` and `armDisarm` again after the call to reset\\n        \"\"\"\\n        self.client.call(\\'reset\\')\\n\\n    def ping(self):\\n        \"\"\"\\n        If connection is established then this call will return true otherwise it will be blocked until timeout\\n\\n        Returns:\\n            bool:\\n        \"\"\"\\n        return self.client.call(\\'ping\\')\\n\\n    def getClientVersion(self):\\n        return 1 # sync with C++ client\\n\\n    def getServerVersion(self):\\n        return self.client.call(\\'getServerVersion\\')\\n\\n    def getMinRequiredServerVersion(self):\\n        return 1 # sync with C++ client\\n\\n    def getMinRequiredClientVersion(self):\\n        return self.client.call(\\'getMinRequiredClientVersion\\')\\n\\n#basic flight control\\n    def enableApiControl(self, is_enabled, vehicle_name = \\'\\'):\\n        \"\"\"\\n        Enables or disables API control for vehicle corresponding to vehicle_name\\n\\n        Args:\\n            is_enabled (bool): True to enable, False to disable API control\\n            vehicle_name (str, optional): Name of the vehicle to send this command to\\n        \"\"\"\\n        self.client.call(\\'enableApiControl\\', is_enabled, vehicle_name)\\n\\n    def isApiControlEnabled(self, vehicle_name = \\'\\'):\\n        \"\"\"\\n        Returns true if API control is established.\\n\\n        If false (which is default) then API calls would be ignored. After a successful call to `enableApiControl`, `isApiControlEnabled` should return true.\\n\\n        Args:\\n            vehicle_name (str, optional): Name of the vehicle\\n\\n        Returns:\\n            bool: If API control is enabled\\n        \"\"\"\\n        return self.client.call(\\'isApiControlEnabled\\', vehicle_name)\\n\\n    def armDisarm(self, arm, vehicle_name = \\'\\'):\\n        \"\"\"\\n        Arms or disarms vehicle\\n\\n        Args:\\n            arm (bool): True to arm, False to disarm the vehicle\\n            vehicle_name (str, optional): Name of the vehicle to send this command to\\n\\n        Returns:\\n            bool: Success\\n        \"\"\"\\n        return self.client.call(\\'armDisarm\\', arm, vehicle_name)\\n\\n    def simPause(self, is_paused):\\n        \"\"\"\\n        Pauses simulation\\n\\n        Args:\\n            is_paused (bool): True to pause the simulation, False to release\\n        \"\"\"\\n        self.client.call(\\'simPause\\', is_paused)\\n\\n    def simIsPause(self):\\n        \"\"\"\\n        Returns true if the simulation is paused\\n\\n        Returns:\\n            bool: If the simulation is paused\\n        \"\"\"\\n        return self.client.call(\"simIsPaused\")\\n\\n    def simContinueForTime(self, seconds):\\n        \"\"\"\\n        Continue the simulation for the specified number of seconds\\n\\n        Args:\\n            seconds (float): Time to run the simulation for\\n        \"\"\"\\n        self.client.call(\\'simContinueForTime\\', seconds)\\n\\n    def simContinueForFrames(self, frames):\\n        \"\"\"\\n        Continue (or resume if paused) the simulation for the specified number of frames, after which the simulation will be paused.\\n\\n        Args:\\n            frames (int): Frames to run the simulation for\\n        \"\"\"\\n        self.client.call(\\'simContinueForFrames\\', frames)\\n\\n    def getHomeGeoPoint(self, vehicle_name = \\'\\'):\\n        \"\"\"\\n        Get the Home location of the vehicle\\n\\n        Args:\\n            vehicle_name (str, optional): Name of vehicle to get home location of\\n\\n        Returns:\\n            GeoPoint: Home location of the vehicle\\n        \"\"\"\\n        return GeoPoint.from_msgpack(self.client.call(\\'getHomeGeoPoint\\', vehicle_name))\\n\\n    def confirmConnection(self):\\n        \"\"\"\\n        Checks state of connection every 1 sec and reports it in Console so user can see the progress for connection.\\n        \"\"\"\\n        if self.ping():\\n            print(\"Connected!\")\\n        else:\\n             print(\"Ping returned false!\")\\n        server_ver = self.getServerVersion()\\n        client_ver = self.getClientVersion()\\n        server_min_ver = self.getMinRequiredServerVersion()\\n        client_min_ver = self.getMinRequiredClientVersion()\\n\\n        ver_info = \"Client Ver:\" + str(client_ver) + \" (Min Req: \" + str(client_min_ver) + \\\\\\n              \"), Server Ver:\" + str(server_ver) + \" (Min Req: \" + str(server_min_ver) + \")\"\\n\\n        if server_ver < server_min_ver:\\n            print(ver_info, file=sys.stderr)\\n            print(\"AirSim server is of older version and not supported by this client. Please upgrade!\")\\n        elif client_ver < client_min_ver:\\n            print(ver_info, file=sys.stderr)\\n            print(\"AirSim client is of older version and not supported by this server. Please upgrade!\")\\n        else:\\n            print(ver_info)\\n        print(\\'\\')\\n\\n    def simSetLightIntensity(self, light_name, intensity):\\n        \"\"\"\\n        Change intensity of named light\\n\\n        Args:\\n            light_name (str): Name of light to change\\n            intensity (float): New intensity value\\n\\n        Returns:\\n            bool: True if successful, otherwise False\\n        \"\"\"\\n        return self.client.call(\"simSetLightIntensity\", light_name, intensity)\\n\\n    def simSwapTextures(self, tags, tex_id = 0, component_id = 0, material_id = 0):\\n        \"\"\"\\n        Runtime Swap Texture API\\n\\n        See https://microsoft.github.io/AirSim/retexturing/ for details\\n\\n        Args:\\n            tags (str): string of \",\" or \", \" delimited tags to identify on which actors to perform the swap\\n            tex_id (int, optional): indexes the array of textures assigned to each actor undergoing a swap\\n\\n                                    If out-of-bounds for some object\\'s texture set, it will be taken modulo the number of textures that were available\\n            component_id (int, optional):\\n            material_id (int, optional):\\n\\n        Returns:\\n            list[str]: List of objects which matched the provided tags and had the texture swap perfomed\\n        \"\"\"\\n        return self.client.call(\"simSwapTextures\", tags, tex_id, component_id, material_id)\\n\\n    def simSetObjectMaterial(self, object_name, material_name, component_id = 0):\\n        \"\"\"\\n        Runtime Swap Texture API\\n        See https://microsoft.github.io/AirSim/retexturing/ for details\\n        Args:\\n            object_name (str): name of object to set material for\\n            material_name (str): name of material to set for object\\n            component_id (int, optional) : index of material elements\\n\\n        Returns:\\n            bool: True if material was set\\n        \"\"\"\\n        return self.client.call(\"simSetObjectMaterial\", object_name, material_name, component_id)\\n\\n    def simSetObjectMaterialFromTexture(self, object_name, texture_path, component_id = 0):\\n        \"\"\"\\n        Runtime Swap Texture API\\n        See https://microsoft.github.io/AirSim/retexturing/ for details\\n        Args:\\n            object_name (str): name of object to set material for\\n            texture_path (str): path to texture to set for object\\n            component_id (int, optional) : index of material elements\\n\\n        Returns:\\n            bool: True if material was set\\n        \"\"\"\\n        return self.client.call(\"simSetObjectMaterialFromTexture\", object_name, texture_path, component_id)\\n\\n#camera control\\n#simGetImage returns compressed png in array of bytes\\n#image_type uses one of the ImageType members\\n    def simGetImage(self, camera_name, image_type, vehicle_name = \\'\\', external = False):\\n        \"\"\"\\n        Get a single image\\n\\n        Returns bytes of png format image which can be dumped into abinary file to create .png image\\n        `string_to_uint8_array()` can be used to convert into Numpy unit8 array\\n        See https://microsoft.github.io/AirSim/image_apis/ for details\\n\\n        Args:\\n            camera_name (str): Name of the camera, for backwards compatibility, ID numbers such as 0,1,etc. can also be used\\n            image_type (ImageType): Type of image required\\n            vehicle_name (str, optional): Name of the vehicle with the camera\\n            external (bool, optional): Whether the camera is an External Camera\\n\\n        Returns:\\n            Binary string literal of compressed png image\\n        \"\"\"\\n#todo : in future remove below, it\\'s only for compatibility to pre v1.2\\n        camera_name = str(camera_name)\\n\\n#because this method returns std::vector < uint8>, msgpack decides to encode it as a string unfortunately.\\n        result = self.client.call(\\'simGetImage\\', camera_name, image_type, vehicle_name, external)\\n        if (result == \"\" or result == \"\\\\0\"):\\n            return None\\n        return result\\n\\n#camera control\\n#simGetImage returns compressed png in array of bytes\\n#image_type uses one of the ImageType members\\n    def simGetImages(self, requests, vehicle_name = \\'\\', external = False):\\n        \"\"\"\\n        Get multiple images\\n\\n        See https://microsoft.github.io/AirSim/image_apis/ for details and examples\\n\\n        Args:\\n            requests (list[ImageRequest]): Images required\\n            vehicle_name (str, optional): Name of vehicle associated with the camera\\n            external (bool, optional): Whether the camera is an External Camera\\n\\n        Returns:\\n            list[ImageResponse]:\\n        \"\"\"\\n        responses_raw = self.client.call(\\'simGetImages\\', requests, vehicle_name, external)\\n        return [ImageResponse.from_msgpack(response_raw) for response_raw in responses_raw]\\n\\n\\n\\n#CinemAirSim\\n    def simGetPresetLensSettings(self, camera_name, vehicle_name = \\'\\', external = False):  \\n        result = self.client.call(\\'simGetPresetLensSettings\\', camera_name, vehicle_name, external)\\n        if (result == \"\" or result == \"\\\\0\"):\\n            return None\\n        return result\\n\\n    def simGetLensSettings(self, camera_name, vehicle_name = \\'\\', external = False):  \\n        result = self.client.call(\\'simGetLensSettings\\', camera_name, vehicle_name, external)\\n        if (result == \"\" or result == \"\\\\0\"):\\n            return None\\n        return result\\n\\n    def simSetPresetLensSettings(self, preset_lens_settings, camera_name, vehicle_name = \\'\\', external = False):  \\n        self.client.call(\"simSetPresetLensSettings\", preset_lens_settings, camera_name, vehicle_name, external)\\n\\n    def simGetPresetFilmbackSettings(self, camera_name, vehicle_name = \\'\\', external = False):  \\n        result = self.client.call(\\'simGetPresetFilmbackSettings\\', camera_name, vehicle_name, external)\\n        if (result == \"\" or result == \"\\\\0\"):\\n            return None\\n        return result\\n\\n    def simSetPresetFilmbackSettings(self, preset_filmback_settings, camera_name, vehicle_name = \\'\\', external = False):  \\n        self.client.call(\"simSetPresetFilmbackSettings\", preset_filmback_settings, camera_name, vehicle_name, external)\\n\\n    def simGetFilmbackSettings(self, camera_name, vehicle_name = \\'\\', external = False):  \\n        result = self.client.call(\\'simGetFilmbackSettings\\', camera_name, vehicle_name, external)\\n        if (result == \"\" or result == \"\\\\0\"):\\n            return None\\n        return result\\n\\n    def simSetFilmbackSettings(self, sensor_width, sensor_height, camera_name, vehicle_name = \\'\\', external = False):  \\n        return self.client.call(\"simSetFilmbackSettings\", sensor_width, sensor_height, camera_name, vehicle_name, external)\\n\\n    def simGetFocalLength(self, camera_name, vehicle_name = \\'\\', external = False):  \\n        return self.client.call(\"simGetFocalLength\", camera_name, vehicle_name, external)\\n\\n    def simSetFocalLength(self, focal_length, camera_name, vehicle_name = \\'\\', external = False):  \\n        self.client.call(\"simSetFocalLength\", focal_length, camera_name, vehicle_name, external)\\n\\n    def simEnableManualFocus(self, enable, camera_name, vehicle_name = \\'\\', external = False):  \\n        self.client.call(\"simEnableManualFocus\", enable, camera_name, vehicle_name, external)\\n\\n    def simGetFocusDistance(self, camera_name, vehicle_name = \\'\\', external = False):  \\n        return self.client.call(\"simGetFocusDistance\", camera_name, vehicle_name, external)\\n\\n    def simSetFocusDistance(self, focus_distance, camera_name, vehicle_name = \\'\\', external = False):  \\n        self.client.call(\"simSetFocusDistance\", focus_distance, camera_name, vehicle_name, external)\\n\\n    def simGetFocusAperture(self, camera_name, vehicle_name = \\'\\', external = False):  \\n        return self.client.call(\"simGetFocusAperture\", camera_name, vehicle_name, external)\\n\\n    def simSetFocusAperture(self, focus_aperture, camera_name, vehicle_name = \\'\\', external = False):  \\n        self.client.call(\"simSetFocusAperture\", focus_aperture, camera_name, vehicle_name, external)\\n\\n    def simEnableFocusPlane(self, enable, camera_name, vehicle_name = \\'\\', external = False):  \\n        self.client.call(\"simEnableFocusPlane\", enable, camera_name, vehicle_name, external)\\n\\n    def simGetCurrentFieldOfView(self, camera_name, vehicle_name = \\'\\', external = False):  \\n        return self.client.call(\"simGetCurrentFieldOfView\", camera_name, vehicle_name, external)\\n\\n#End CinemAirSim     \\n    def simTestLineOfSightToPoint(self, point, vehicle_name = \\'\\'):\\n        \"\"\"\\n        Returns whether the target point is visible from the perspective of the inputted vehicle\\n\\n        Args:\\n            point (GeoPoint): target point\\n            vehicle_name (str, optional): Name of vehicle\\n\\n        Returns:\\n            [bool]: Success\\n        \"\"\"\\n        return self.client.call(\\'simTestLineOfSightToPoint\\', point, vehicle_name)\\n\\n    def simTestLineOfSightBetweenPoints(self, point1, point2):\\n        \"\"\"\\n        Returns whether the target point is visible from the perspective of the source point\\n\\n        Args:\\n            point1 (GeoPoint): source point\\n            point2 (GeoPoint): target point\\n\\n        Returns:\\n            [bool]: Success\\n        \"\"\"\\n        return self.client.call(\\'simTestLineOfSightBetweenPoints\\', point1, point2)\\n\\n    def simGetWorldExtents(self):\\n        \"\"\"\\n        Returns a list of GeoPoints representing the minimum and maximum extents of the world\\n\\n        Returns:\\n            list[GeoPoint]\\n        \"\"\"\\n        responses_raw = self.client.call(\\'simGetWorldExtents\\')\\n        return [GeoPoint.from_msgpack(response_raw) for response_raw in responses_raw]\\n\\n    def simRunConsoleCommand(self, command):\\n        \"\"\"\\n        Allows the client to execute a command in Unreal\\'s native console, via an API.\\n        Affords access to the countless built-in commands such as \"stat unit\", \"stat fps\", \"open [map]\", adjust any config settings, etc. etc.\\n        Allows the user to create bespoke APIs very easily, by adding a custom event to the level blueprint, and then calling the console command \"ce MyEventName [args]\". No recompilation of AirSim needed!\\n\\n        Args:\\n            command ([string]): Desired Unreal Engine Console command to run\\n\\n        Returns:\\n            [bool]: Success\\n        \"\"\"\\n        return self.client.call(\\'simRunConsoleCommand\\', command)\\n\\n\\n#Recording APIs\\n    def startRecording(self):\\n        \"\"\"\\n        Start Recording\\n\\n        Recording will be done according to the settings\\n        \"\"\"\\n        self.client.call(\\'startRecording\\')\\n\\n    def stopRecording(self):\\n        \"\"\"\\n        Stop Recording\\n        \"\"\"\\n        self.client.call(\\'stopRecording\\')\\n\\n    def isRecording(self):\\n        \"\"\"\\n        Whether Recording is running or not\\n\\n        Returns:\\n            bool: True if Recording, else False\\n        \"\"\"\\n        return self.client.call(\\'isRecording\\')\\n\\n    def simSetWind(self, wind):\\n        \"\"\"\\n        Set simulated wind, in World frame, NED direction, m/s\\n\\n        Args:\\n            wind (Vector3r): Wind, in World frame, NED direction, in m/s\\n        \"\"\"\\n        self.client.call(\\'simSetWind\\', wind)\\n\\n    def simCreateVoxelGrid(self, position, x, y, z, res, of):\\n        \"\"\"\\n        Construct and save a binvox-formatted voxel grid of environment\\n\\n        Args:\\n            position (Vector3r): Position around which voxel grid is centered in m\\n            x, y, z (int): Size of each voxel grid dimension in m\\n            res (float): Resolution of voxel grid in m\\n            of (str): Name of output file to save voxel grid as\\n\\n        Returns:\\n            bool: True if output written to file successfully, else False\\n        \"\"\"\\n        return self.client.call(\\'simCreateVoxelGrid\\', position, x, y, z, res, of)\\n\\n#----------------------------------- Multirotor APIs ---------------------------------------------\\nclass MultirotorClient(VehicleClient, object):\\n    def __init__(self, ip = \"\", port = 41451, timeout_value = 3600):\\n        super(MultirotorClient, self).__init__(ip, port, timeout_value)\\n\\n    def takeoffAsync(self, timeout_sec = 20, vehicle_name = \\'\\'):\\n        \"\"\"\\n        Takeoff vehicle to 3m above ground. Vehicle should not be moving when this API is used\\n\\n        Args:\\n            timeout_sec (int, optional): Timeout for the vehicle to reach desired altitude\\n            vehicle_name (str, optional): Name of the vehicle to send this command to\\n\\n        Returns:\\n            msgpackrpc.future.Future: future. call .join() to wait for method to finish. Example: client.METHOD().join()\\n        \"\"\"\\n        return self.client.call_async(\\'takeoff\\', timeout_sec, vehicle_name)\\n\\n    def landAsync(self, timeout_sec = 60, vehicle_name = \\'\\'):\\n        \"\"\"\\n        Land the vehicle\\n\\n        Args:\\n            timeout_sec (int, optional): Timeout for the vehicle to land\\n            vehicle_name (str, optional): Name of the vehicle to send this command to\\n\\n        Returns:\\n            msgpackrpc.future.Future: future. call .join() to wait for method to finish. Example: client.METHOD().join()\\n        \"\"\"\\n        return self.client.call_async(\\'land\\', timeout_sec, vehicle_name)\\n\\n    def goHomeAsync(self, timeout_sec = 3e+38, vehicle_name = \\'\\'):\\n        \"\"\"\\n        Return vehicle to Home i.e. Launch location\\n\\n        Args:\\n            timeout_sec (int, optional): Timeout for the vehicle to reach desired altitude\\n            vehicle_name (str, optional): Name of the vehicle to send this command to\\n\\n        Returns:\\n            msgpackrpc.future.Future: future. call .join() to wait for method to finish. Example: client.METHOD().join()\\n        \"\"\"\\n        return self.client.call_async(\\'goHome\\', timeout_sec, vehicle_name)\\n\\n#APIs for control\\n    def moveByVelocityBodyFrameAsync(self, vx, vy, vz, duration, drivetrain = DrivetrainType.MaxDegreeOfFreedom, yaw_mode = YawMode(), vehicle_name = \\'\\'):\\n        \"\"\"\\n        Args:\\n            vx (float): desired velocity in the X axis of the vehicle\\'s local NED frame.\\n            vy (float): desired velocity in the Y axis of the vehicle\\'s local NED frame.\\n            vz (float): desired velocity in the Z axis of the vehicle\\'s local NED frame.\\n            duration (float): Desired amount of time (seconds), to send this command for\\n            drivetrain (DrivetrainType, optional):\\n            yaw_mode (YawMode, optional):\\n            vehicle_name (str, optional): Name of the multirotor to send this command to\\n\\n        Returns:\\n            msgpackrpc.future.Future: future. call .join() to wait for method to finish. Example: client.METHOD().join()\\n        \"\"\"\\n        return self.client.call_async(\\'moveByVelocityBodyFrame\\', vx, vy, vz, duration, drivetrain, yaw_mode, vehicle_name)\\n\\n    def moveByVelocityZBodyFrameAsync(self, vx, vy, z, duration, drivetrain = DrivetrainType.MaxDegreeOfFreedom, yaw_mode = YawMode(), vehicle_name = \\'\\'):\\n        \"\"\"\\n        Args:\\n            vx (float): desired velocity in the X axis of the vehicle\\'s local NED frame\\n            vy (float): desired velocity in the Y axis of the vehicle\\'s local NED frame\\n            z (float): desired Z value (in local NED frame of the vehicle)\\n            duration (float): Desired amount of time (seconds), to send this command for\\n            drivetrain (DrivetrainType, optional):\\n            yaw_mode (YawMode, optional):\\n            vehicle_name (str, optional): Name of the multirotor to send this command to\\n\\n        Returns:\\n            msgpackrpc.future.Future: future. call .join() to wait for method to finish. Example: client.METHOD().join()\\n        \"\"\"\\n\\n        return self.client.call_async(\\'moveByVelocityZBodyFrame\\', vx, vy, z, duration, drivetrain, yaw_mode, vehicle_name)\\n\\n    def moveByAngleZAsync(self, pitch, roll, z, yaw, duration, vehicle_name = \\'\\'):\\n        logging.warning(\"moveByAngleZAsync API is deprecated, use moveByRollPitchYawZAsync() API instead\")\\n        return self.client.call_async(\\'moveByRollPitchYawZ\\', roll, -pitch, -yaw, z, duration, vehicle_name)\\n\\n    def moveByAngleThrottleAsync(self, pitch, roll, throttle, yaw_rate, duration, vehicle_name = \\'\\'):\\n        logging.warning(\"moveByAngleThrottleAsync API is deprecated, use moveByRollPitchYawrateThrottleAsync() API instead\")\\n        return self.client.call_async(\\'moveByRollPitchYawrateThrottle\\', roll, -pitch, -yaw_rate, throttle, duration, vehicle_name)\\n\\n    def moveByVelocityAsync(self, vx, vy, vz, duration, drivetrain = DrivetrainType.MaxDegreeOfFreedom, yaw_mode = YawMode(), vehicle_name = \\'\\'):\\n        \"\"\"\\n        Args:\\n            vx (float): desired velocity in world (NED) X axis\\n            vy (float): desired velocity in world (NED) Y axis\\n            vz (float): desired velocity in world (NED) Z axis\\n            duration (float): Desired amount of time (seconds), to send this command for\\n            drivetrain (DrivetrainType, optional):\\n            yaw_mode (YawMode, optional):\\n            vehicle_name (str, optional): Name of the multirotor to send this command to\\n\\n        Returns:\\n            msgpackrpc.future.Future: future. call .join() to wait for method to finish. Example: client.METHOD().join()\\n        \"\"\"\\n        return self.client.call_async(\\'moveByVelocity\\', vx, vy, vz, duration, drivetrain, yaw_mode, vehicle_name)\\n\\n    def moveByVelocityZAsync(self, vx, vy, z, duration, drivetrain = DrivetrainType.MaxDegreeOfFreedom, yaw_mode = YawMode(), vehicle_name = \\'\\'):\\n        return self.client.call_async(\\'moveByVelocityZ\\', vx, vy, z, duration, drivetrain, yaw_mode, vehicle_name)\\n\\n    def moveOnPathAsync(self, path, velocity, timeout_sec = 3e+38, drivetrain = DrivetrainType.MaxDegreeOfFreedom, yaw_mode = YawMode(),\\n        lookahead = -1, adaptive_lookahead = 1, vehicle_name = \\'\\'):\\n        return self.client.call_async(\\'moveOnPath\\', path, velocity, timeout_sec, drivetrain, yaw_mode, lookahead, adaptive_lookahead, vehicle_name)\\n\\n    def moveToPositionAsync(self, x, y, z, velocity, timeout_sec = 3e+38, drivetrain = DrivetrainType.MaxDegreeOfFreedom, yaw_mode = YawMode(),\\n        lookahead = -1, adaptive_lookahead = 1, vehicle_name = \\'\\'):\\n        return self.client.call_async(\\'moveToPosition\\', x, y, z, velocity, timeout_sec, drivetrain, yaw_mode, lookahead, adaptive_lookahead, vehicle_name)\\n\\n    def moveToGPSAsync(self, latitude, longitude, altitude, velocity, timeout_sec = 3e+38, drivetrain = DrivetrainType.MaxDegreeOfFreedom, yaw_mode = YawMode(),\\n        lookahead = -1, adaptive_lookahead = 1, vehicle_name = \\'\\'):\\n        return self.client.call_async(\\'moveToGPS\\', latitude, longitude, altitude, velocity, timeout_sec, drivetrain, yaw_mode, lookahead, adaptive_lookahead, vehicle_name)\\n\\n    def moveToZAsync(self, z, velocity, timeout_sec = 3e+38, yaw_mode = YawMode(), lookahead = -1, adaptive_lookahead = 1, vehicle_name = \\'\\'):\\n        return self.client.call_async(\\'moveToZ\\', z, velocity, timeout_sec, yaw_mode, lookahead, adaptive_lookahead, vehicle_name)\\n\\n    def moveByManualAsync(self, vx_max, vy_max, z_min, duration, drivetrain = DrivetrainType.MaxDegreeOfFreedom, yaw_mode = YawMode(), vehicle_name = \\'\\'):\\n        \"\"\"\\n        - Read current RC state and use it to control the vehicles.\\n\\n        Parameters sets up the constraints on velocity and minimum altitude while flying. If RC state is detected to violate these constraints\\n        then that RC state would be ignored.\\n\\n        Args:\\n            vx_max (float): max velocity allowed in x direction\\n            vy_max (float): max velocity allowed in y direction\\n            vz_max (float): max velocity allowed in z direction\\n            z_min (float): min z allowed for vehicle position\\n            duration (float): after this duration vehicle would switch back to non-manual mode\\n            drivetrain (DrivetrainType): when ForwardOnly, vehicle rotates itself so that its front is always facing the direction of travel. If MaxDegreeOfFreedom then it doesn\\'t do that (crab-like movement)\\n            yaw_mode (YawMode): Specifies if vehicle should face at given angle (is_rate=False) or should be rotating around its axis at given rate (is_rate=True)\\n            vehicle_name (str, optional): Name of the multirotor to send this command to\\n        Returns:\\n            msgpackrpc.future.Future: future. call .join() to wait for method to finish. Example: client.METHOD().join()\\n        \"\"\"\\n        return self.client.call_async(\\'moveByManual\\', vx_max, vy_max, z_min, duration, drivetrain, yaw_mode, vehicle_name)\\n\\n    def rotateToYawAsync(self, yaw, timeout_sec = 3e+38, margin = 5, vehicle_name = \\'\\'):\\n        return self.client.call_async(\\'rotateToYaw\\', yaw, timeout_sec, margin, vehicle_name)\\n\\n    def rotateByYawRateAsync(self, yaw_rate, duration, vehicle_name = \\'\\'):\\n        return self.client.call_async(\\'rotateByYawRate\\', yaw_rate, duration, vehicle_name)\\n\\n    def hoverAsync(self, vehicle_name = \\'\\'):\\n        return self.client.call_async(\\'hover\\', vehicle_name)\\n\\n    def moveByRC(self, rcdata = RCData(), vehicle_name = \\'\\'):\\n        return self.client.call(\\'moveByRC\\', rcdata, vehicle_name)\\n\\n#query vehicle state\\n    def getMultirotorState(self, vehicle_name = \\'\\'):\\n        \"\"\"\\n        The position inside the returned MultirotorState is in the frame of the vehicle\\'s starting point\\n\\n        Args:\\n            vehicle_name (str, optional): Vehicle to get the state of\\n\\n        Returns:\\n            MultirotorState:\\n        \"\"\"\\n        return MultirotorState.from_msgpack(self.client.call(\\'getMultirotorState\\', vehicle_name))\\n    getMultirotorState.__annotations__ = {\\'return\\': MultirotorState}\\n#query rotor states\\n    def getRotorStates(self, vehicle_name = \\'\\'):\\n        \"\"\"\\n        Used to obtain the current state of all a multirotor\\'s rotors. The state includes the speeds,\\n        thrusts and torques for all rotors.\\n\\n        Args:\\n            vehicle_name (str, optional): Vehicle to get the rotor state of\\n\\n        Returns:\\n            RotorStates: Containing a timestamp and the speed, thrust and torque of all rotors.\\n        \"\"\"\\n        return RotorStates.from_msgpack(self.client.call(\\'getRotorStates\\', vehicle_name))\\n    getRotorStates.__annotations__ = {\\'return\\': RotorStates}'"
      ]
     },
     "execution_count": 46,
     "metadata": {},
     "output_type": "execute_result"
    }
   ],
   "source": [
    "documents[0].page_content"
   ]
  },
  {
   "cell_type": "code",
   "execution_count": 47,
   "id": "7f6db39c",
   "metadata": {},
   "outputs": [],
   "source": [
    "import pprint"
   ]
  },
  {
   "cell_type": "markdown",
   "id": "245cbdd5",
   "metadata": {},
   "source": [
    "# Basic chunking"
   ]
  },
  {
   "cell_type": "code",
   "execution_count": 48,
   "id": "33b504a1",
   "metadata": {},
   "outputs": [],
   "source": [
    "def text_split(extracted_data):\n",
    "    text_splitter=RecursiveCharacterTextSplitter(chunk_size=500, chunk_overlap=20)\n",
    "    text_chunks=text_splitter.split_documents(extracted_data)\n",
    "    return text_chunks\n",
    "\n",
    "text_chunks=text_split(documents)"
   ]
  },
  {
   "cell_type": "code",
   "execution_count": 49,
   "id": "c66794ba",
   "metadata": {},
   "outputs": [
    {
     "name": "stdout",
     "output_type": "stream",
     "text": [
      "('def moveOnPathAsync(self, path, velocity, timeout_sec = 3e+38, drivetrain = '\n",
      " 'DrivetrainType.MaxDegreeOfFreedom, yaw_mode = YawMode(),\\n'\n",
      " \"        lookahead = -1, adaptive_lookahead = 1, vehicle_name = ''):\\n\"\n",
      " \"        return self.client.call_async('moveOnPath', path, velocity, \"\n",
      " 'timeout_sec, drivetrain, yaw_mode, lookahead, adaptive_lookahead, '\n",
      " 'vehicle_name)')\n"
     ]
    }
   ],
   "source": [
    "pprint.pprint(text_chunks[60].page_content)"
   ]
  },
  {
   "cell_type": "markdown",
   "id": "45e99aa0",
   "metadata": {},
   "source": [
    "# ATS chunking"
   ]
  },
  {
   "cell_type": "code",
   "execution_count": 110,
   "id": "aaf611a1",
   "metadata": {},
   "outputs": [],
   "source": [
    "import ast\n",
    "from langchain.schema import Document\n",
    "from langchain.text_splitter import RecursiveCharacterTextSplitter\n",
    "import uuid\n",
    "\n",
    "def extract_segments(source_code: str, node: ast.AST, metadata: dict) -> list[dict]:\n",
    "    \"\"\"\n",
    "    Recursive extract code segments từ node, thêm metadata.\n",
    "    \"\"\"\n",
    "    segments = []\n",
    "    \n",
    "    if isinstance(node, (ast.FunctionDef, ast.AsyncFunctionDef)):\n",
    "        code_segment = ast.get_source_segment(source_code, node)\n",
    "        if code_segment:\n",
    "            segments.append({\n",
    "                'code': code_segment,\n",
    "                'metadata': {\n",
    "                    **metadata,\n",
    "                    'chunk_type': 'function',\n",
    "                    'name': node.name\n",
    "                }\n",
    "            })\n",
    "    \n",
    "    # Recursive vào body của class\n",
    "    if isinstance(node, ast.ClassDef):\n",
    "        code_segment = ast.get_source_segment(source_code, node)\n",
    "        # Chỉ thêm class header (không methods) nếu ngắn\n",
    "        if code_segment and len(code_segment) <= 200:  # Giới hạn nhỏ để tránh class lớn\n",
    "            segments.append({\n",
    "                'code': code_segment.split('\\n\\n')[0],  # Chỉ lấy header\n",
    "                'metadata': {\n",
    "                    **metadata,\n",
    "                    'chunk_type': 'class',\n",
    "                    'name': node.name\n",
    "                }\n",
    "            })\n",
    "        for subnode in node.body:\n",
    "            segments.extend(extract_segments(source_code, subnode, metadata))\n",
    "    \n",
    "    return segments\n",
    "\n",
    "def chunk_python_code(doc: Document, max_chunk_len: int = 500) -> list[Document]:\n",
    "    source_code = doc.page_content\n",
    "    try:\n",
    "        tree = ast.parse(source_code)\n",
    "    except SyntaxError:\n",
    "        # Fallback nếu code lỗi\n",
    "        splitter = RecursiveCharacterTextSplitter(chunk_size=max_chunk_len, chunk_overlap=50, separators=[\"\\n\\n\", \"\\n\", \" \", \"\"])\n",
    "        return splitter.split_documents([doc])\n",
    "    \n",
    "    chunks = []\n",
    "    \n",
    "    # Chunk imports riêng\n",
    "    imports = [ast.get_source_segment(source_code, n) for n in tree.body if isinstance(n, (ast.Import, ast.ImportFrom))]\n",
    "    if imports:\n",
    "        import_str = \"\\n\".join(filter(None, imports))\n",
    "        chunks.append(Document(\n",
    "            page_content=import_str,\n",
    "            metadata={**doc.metadata, 'chunk_type': 'imports'},\n",
    "            artifact_id=str(uuid.uuid4())\n",
    "        ))\n",
    "    \n",
    "    # Extract segments recursive\n",
    "    all_segments = []\n",
    "    for node in tree.body:\n",
    "        if not isinstance(node, (ast.Import, ast.ImportFrom)):\n",
    "            all_segments.extend(extract_segments(source_code, node, doc.metadata))\n",
    "    \n",
    "    # Tích lũy segments vào chunks\n",
    "    current_chunk = []\n",
    "    current_len = 0\n",
    "    for segment in all_segments:\n",
    "        segment_len = len(segment['code'])\n",
    "        \n",
    "        # Flush nếu vượt max\n",
    "        if current_len + segment_len > max_chunk_len and current_chunk:\n",
    "            chunk_content = \"\\n\\n\".join(c['code'] for c in current_chunk)\n",
    "            chunks.append(Document(\n",
    "                page_content=chunk_content,\n",
    "                metadata={**current_chunk[0]['metadata'], 'chunk_type': 'code_group'},\n",
    "                artifact_id=str(uuid.uuid4())\n",
    "            ))\n",
    "            current_chunk = []\n",
    "            current_len = 0\n",
    "        \n",
    "        current_chunk.append(segment)\n",
    "        current_len += segment_len\n",
    "        \n",
    "        # Split nếu segment đơn lẻ quá dài\n",
    "        if segment_len > max_chunk_len:\n",
    "            splitter = RecursiveCharacterTextSplitter(chunk_size=max_chunk_len, chunk_overlap=50, separators=[\"\\n\\n\", \"\\n\", \" \", \"\"])\n",
    "            sub_docs = splitter.split_text(segment['code'])\n",
    "            for sub in sub_docs:\n",
    "                chunks.append(Document(\n",
    "                    page_content=sub,\n",
    "                    metadata={**segment['metadata'], 'chunk_type': 'split_segment'},\n",
    "                    artifact_id=str(uuid.uuid4())\n",
    "                ))\n",
    "            current_chunk = []\n",
    "            current_len = 0\n",
    "    \n",
    "    # Flush cuối\n",
    "    if current_chunk:\n",
    "        chunk_content = \"\\n\\n\".join(c['code'] for c in current_chunk)\n",
    "        chunks.append(Document(\n",
    "            page_content=chunk_content,\n",
    "            metadata={**current_chunk[0]['metadata'], 'chunk_type': 'code_group'},\n",
    "            artifact_id=str(uuid.uuid4())\n",
    "        ))\n",
    "    \n",
    "    return chunks\n",
    "\n",
    "def chunk_all_documents(docs: list[Document], max_chunk_len: int = 1500) -> list[Document]:\n",
    "    \"\"\"Apply chunking cho toàn bộ list Document\"\"\"\n",
    "    all_chunks = []\n",
    "    for doc in docs:\n",
    "        all_chunks.extend(chunk_python_code(doc, max_chunk_len))\n",
    "    return all_chunks"
   ]
  },
  {
   "cell_type": "code",
   "execution_count": 111,
   "id": "7d4a7136",
   "metadata": {},
   "outputs": [],
   "source": [
    "chunks = chunk_all_documents(documents)"
   ]
  },
  {
   "cell_type": "code",
   "execution_count": 112,
   "id": "46302e6d",
   "metadata": {},
   "outputs": [
    {
     "data": {
      "text/plain": [
       "22"
      ]
     },
     "execution_count": 112,
     "metadata": {},
     "output_type": "execute_result"
    }
   ],
   "source": [
    "len(chunks)"
   ]
  },
  {
   "cell_type": "code",
   "execution_count": 132,
   "id": "e6da8aff",
   "metadata": {},
   "outputs": [
    {
     "data": {
      "text/plain": [
       "Document(metadata={'source': 'Data/client.py', 'chunk_type': 'code_group', 'name': 'simGetImage'}, page_content='def simGetImage(self, camera_name, image_type, vehicle_name = \\'\\', external = False):\\n        \"\"\"\\n        Get a single image\\n\\n        Returns bytes of png format image which can be dumped into abinary file to create .png image\\n        `string_to_uint8_array()` can be used to convert into Numpy unit8 array\\n        See https://microsoft.github.io/AirSim/image_apis/ for details\\n\\n        Args:\\n            camera_name (str): Name of the camera, for backwards compatibility, ID numbers such as 0,1,etc. can also be used\\n            image_type (ImageType): Type of image required\\n            vehicle_name (str, optional): Name of the vehicle with the camera\\n            external (bool, optional): Whether the camera is an External Camera\\n\\n        Returns:\\n            Binary string literal of compressed png image\\n        \"\"\"\\n#todo : in future remove below, it\\'s only for compatibility to pre v1.2\\n        camera_name = str(camera_name)\\n\\n#because this method returns std::vector < uint8>, msgpack decides to encode it as a string unfortunately.\\n        result = self.client.call(\\'simGetImage\\', camera_name, image_type, vehicle_name, external)\\n        if (result == \"\" or result == \"\\\\0\"):\\n            return None\\n        return result')"
      ]
     },
     "execution_count": 132,
     "metadata": {},
     "output_type": "execute_result"
    }
   ],
   "source": [
    "chunks[7]"
   ]
  },
  {
   "cell_type": "code",
   "execution_count": 118,
   "id": "0c995c7a",
   "metadata": {},
   "outputs": [
    {
     "name": "stdout",
     "output_type": "stream",
     "text": [
      "Length of Chunks 22\n"
     ]
    }
   ],
   "source": [
    "print(\"Length of Chunks\", len(chunks))"
   ]
  },
  {
   "cell_type": "code",
   "execution_count": 119,
   "id": "b8b6e33b",
   "metadata": {},
   "outputs": [
    {
     "data": {
      "text/plain": [
       "'from __future__ import print_function\\nfrom .utils import *\\nfrom .types import *\\nimport msgpackrpc\\nimport numpy as np\\nimport msgpack\\nimport time\\nimport math\\nimport logging'"
      ]
     },
     "execution_count": 119,
     "metadata": {},
     "output_type": "execute_result"
    }
   ],
   "source": [
    "chunks[0].page_content"
   ]
  },
  {
   "cell_type": "code",
   "execution_count": 63,
   "id": "a3687275",
   "metadata": {},
   "outputs": [],
   "source": [
    "from langchain.embeddings import HuggingFaceEmbeddings\n",
    "\n",
    "#Download the Embeddings from Hugging Face\n",
    "def download_hugging_face_embeddings():\n",
    "    embeddings=HuggingFaceEmbeddings(model_name='jinaai/jina-embeddings-v2-base-code')\n",
    "    return embeddings"
   ]
  },
  {
   "cell_type": "code",
   "execution_count": 64,
   "id": "405b64c4",
   "metadata": {},
   "outputs": [
    {
     "name": "stderr",
     "output_type": "stream",
     "text": [
      "e:\\LangChain project\\DroneScripts-RAG\\dronerag-venv\\Lib\\site-packages\\huggingface_hub\\file_download.py:143: UserWarning: `huggingface_hub` cache-system uses symlinks by default to efficiently store duplicated files but your machine does not support them in C:\\Users\\Admin\\.cache\\huggingface\\hub\\models--jinaai--jina-embeddings-v2-base-code. Caching files will still work but in a degraded version that might require more space on your disk. This warning can be disabled by setting the `HF_HUB_DISABLE_SYMLINKS_WARNING` environment variable. For more details, see https://huggingface.co/docs/huggingface_hub/how-to-cache#limitations.\n",
      "To support symlinks on Windows, you either need to activate Developer Mode or to run Python as an administrator. In order to activate developer mode, see this article: https://docs.microsoft.com/en-us/windows/apps/get-started/enable-your-device-for-development\n",
      "  warnings.warn(message)\n",
      "Some weights of BertModel were not initialized from the model checkpoint at jinaai/jina-embeddings-v2-base-code and are newly initialized: ['embeddings.position_embeddings.weight', 'encoder.layer.0.intermediate.dense.bias', 'encoder.layer.0.intermediate.dense.weight', 'encoder.layer.0.output.LayerNorm.bias', 'encoder.layer.0.output.LayerNorm.weight', 'encoder.layer.0.output.dense.bias', 'encoder.layer.0.output.dense.weight', 'encoder.layer.1.intermediate.dense.bias', 'encoder.layer.1.intermediate.dense.weight', 'encoder.layer.1.output.LayerNorm.bias', 'encoder.layer.1.output.LayerNorm.weight', 'encoder.layer.1.output.dense.bias', 'encoder.layer.1.output.dense.weight', 'encoder.layer.10.intermediate.dense.bias', 'encoder.layer.10.intermediate.dense.weight', 'encoder.layer.10.output.LayerNorm.bias', 'encoder.layer.10.output.LayerNorm.weight', 'encoder.layer.10.output.dense.bias', 'encoder.layer.10.output.dense.weight', 'encoder.layer.11.intermediate.dense.bias', 'encoder.layer.11.intermediate.dense.weight', 'encoder.layer.11.output.LayerNorm.bias', 'encoder.layer.11.output.LayerNorm.weight', 'encoder.layer.11.output.dense.bias', 'encoder.layer.11.output.dense.weight', 'encoder.layer.2.intermediate.dense.bias', 'encoder.layer.2.intermediate.dense.weight', 'encoder.layer.2.output.LayerNorm.bias', 'encoder.layer.2.output.LayerNorm.weight', 'encoder.layer.2.output.dense.bias', 'encoder.layer.2.output.dense.weight', 'encoder.layer.3.intermediate.dense.bias', 'encoder.layer.3.intermediate.dense.weight', 'encoder.layer.3.output.LayerNorm.bias', 'encoder.layer.3.output.LayerNorm.weight', 'encoder.layer.3.output.dense.bias', 'encoder.layer.3.output.dense.weight', 'encoder.layer.4.intermediate.dense.bias', 'encoder.layer.4.intermediate.dense.weight', 'encoder.layer.4.output.LayerNorm.bias', 'encoder.layer.4.output.LayerNorm.weight', 'encoder.layer.4.output.dense.bias', 'encoder.layer.4.output.dense.weight', 'encoder.layer.5.intermediate.dense.bias', 'encoder.layer.5.intermediate.dense.weight', 'encoder.layer.5.output.LayerNorm.bias', 'encoder.layer.5.output.LayerNorm.weight', 'encoder.layer.5.output.dense.bias', 'encoder.layer.5.output.dense.weight', 'encoder.layer.6.intermediate.dense.bias', 'encoder.layer.6.intermediate.dense.weight', 'encoder.layer.6.output.LayerNorm.bias', 'encoder.layer.6.output.LayerNorm.weight', 'encoder.layer.6.output.dense.bias', 'encoder.layer.6.output.dense.weight', 'encoder.layer.7.intermediate.dense.bias', 'encoder.layer.7.intermediate.dense.weight', 'encoder.layer.7.output.LayerNorm.bias', 'encoder.layer.7.output.LayerNorm.weight', 'encoder.layer.7.output.dense.bias', 'encoder.layer.7.output.dense.weight', 'encoder.layer.8.intermediate.dense.bias', 'encoder.layer.8.intermediate.dense.weight', 'encoder.layer.8.output.LayerNorm.bias', 'encoder.layer.8.output.LayerNorm.weight', 'encoder.layer.8.output.dense.bias', 'encoder.layer.8.output.dense.weight', 'encoder.layer.9.intermediate.dense.bias', 'encoder.layer.9.intermediate.dense.weight', 'encoder.layer.9.output.LayerNorm.bias', 'encoder.layer.9.output.LayerNorm.weight', 'encoder.layer.9.output.dense.bias', 'encoder.layer.9.output.dense.weight']\n",
      "You should probably TRAIN this model on a down-stream task to be able to use it for predictions and inference.\n"
     ]
    }
   ],
   "source": [
    "embeddings = download_hugging_face_embeddings()"
   ]
  },
  {
   "cell_type": "code",
   "execution_count": 26,
   "id": "570c3c4a",
   "metadata": {},
   "outputs": [
    {
     "name": "stderr",
     "output_type": "stream",
     "text": [
      "C:\\Users\\Admin\\AppData\\Local\\Temp\\ipykernel_7664\\1037887319.py:4: LangChainDeprecationWarning: The class `HuggingFaceEmbeddings` was deprecated in LangChain 0.2.2 and will be removed in 1.0. An updated version of the class exists in the :class:`~langchain-huggingface package and should be used instead. To use it run `pip install -U :class:`~langchain-huggingface` and import as `from :class:`~langchain_huggingface import HuggingFaceEmbeddings``.\n",
      "  embeddings=HuggingFaceEmbeddings(model_name='microsoft/codebert-base')\n",
      "No sentence-transformers model found with name microsoft/codebert-base. Creating a new one with mean pooling.\n"
     ]
    }
   ],
   "source": [
    "from langchain.embeddings import HuggingFaceEmbeddings\n",
    "#Download the Embeddings from Hugging Face\n",
    "def download_hugging_face_embeddings():\n",
    "    embeddings=HuggingFaceEmbeddings(model_name='microsoft/codebert-base')\n",
    "    return embeddings\n",
    "\n",
    "embeddings2 = download_hugging_face_embeddings()"
   ]
  },
  {
   "cell_type": "code",
   "execution_count": 120,
   "id": "18a73711",
   "metadata": {},
   "outputs": [
    {
     "name": "stdout",
     "output_type": "stream",
     "text": [
      "Length 768\n"
     ]
    }
   ],
   "source": [
    "#test the embeddings\n",
    "query_result = embeddings2.embed_query(\"Hello world\")\n",
    "print(\"Length\", len(query_result))"
   ]
  },
  {
   "cell_type": "code",
   "execution_count": 29,
   "id": "eb9c9635",
   "metadata": {},
   "outputs": [
    {
     "data": {
      "text/plain": [
       "True"
      ]
     },
     "execution_count": 29,
     "metadata": {},
     "output_type": "execute_result"
    }
   ],
   "source": [
    "from dotenv import load_dotenv\n",
    "load_dotenv()"
   ]
  },
  {
   "cell_type": "code",
   "execution_count": 30,
   "id": "0c806a5b",
   "metadata": {},
   "outputs": [],
   "source": [
    "PINECONE_API_KEY=os.environ.get('PINECONE_API_KEY')"
   ]
  },
  {
   "cell_type": "code",
   "execution_count": 134,
   "id": "756c183c",
   "metadata": {},
   "outputs": [
    {
     "data": {
      "text/plain": [
       "{\n",
       "    \"name\": \"drone-rag-index-codebert\",\n",
       "    \"metric\": \"cosine\",\n",
       "    \"host\": \"drone-rag-index-codebert-1uz26v7.svc.aped-4627-b74a.pinecone.io\",\n",
       "    \"spec\": {\n",
       "        \"serverless\": {\n",
       "            \"cloud\": \"aws\",\n",
       "            \"region\": \"us-east-1\"\n",
       "        }\n",
       "    },\n",
       "    \"status\": {\n",
       "        \"ready\": true,\n",
       "        \"state\": \"Ready\"\n",
       "    },\n",
       "    \"vector_type\": \"dense\",\n",
       "    \"dimension\": 768,\n",
       "    \"deletion_protection\": \"disabled\",\n",
       "    \"tags\": null\n",
       "}"
      ]
     },
     "execution_count": 134,
     "metadata": {},
     "output_type": "execute_result"
    }
   ],
   "source": [
    "from pinecone.grpc import PineconeGRPC as Pinecone\n",
    "from pinecone import ServerlessSpec\n",
    "import os\n",
    "\n",
    "pc = Pinecone(api_key=PINECONE_API_KEY)\n",
    "index_name = \"drone-rag-index-codebert\"\n",
    "\n",
    "pc.create_index(\n",
    "    name=index_name,\n",
    "    dimension=768, \n",
    "    metric=\"cosine\", \n",
    "    spec=ServerlessSpec(\n",
    "        cloud=\"aws\", \n",
    "        region=\"us-east-1\"\n",
    "    ) \n",
    ") "
   ]
  },
  {
   "cell_type": "code",
   "execution_count": 135,
   "id": "d8266324",
   "metadata": {},
   "outputs": [],
   "source": [
    "# Embed each chunk and upsert the embeddings into your Pinecone index.\n",
    "from langchain_pinecone import PineconeVectorStore\n",
    "\n",
    "docsearch = PineconeVectorStore.from_documents(\n",
    "    documents=chunks,\n",
    "    index_name=index_name,\n",
    "    embedding=embeddings2, \n",
    ")"
   ]
  },
  {
   "cell_type": "code",
   "execution_count": 136,
   "id": "0a6a1afe",
   "metadata": {},
   "outputs": [],
   "source": [
    "# Load Existing index \n",
    "\n",
    "from langchain_pinecone import PineconeVectorStore\n",
    "# Embed each chunk and upsert the embeddings into your Pinecone index.\n",
    "docsearch = PineconeVectorStore.from_existing_index(\n",
    "    index_name=\"drone-rag-index-codebert\",\n",
    "    embedding=embeddings2\n",
    ")"
   ]
  },
  {
   "cell_type": "code",
   "execution_count": 137,
   "id": "6c803320",
   "metadata": {},
   "outputs": [
    {
     "data": {
      "text/plain": [
       "<langchain_pinecone.vectorstores.PineconeVectorStore at 0x240852f3320>"
      ]
     },
     "execution_count": 137,
     "metadata": {},
     "output_type": "execute_result"
    }
   ],
   "source": [
    "docsearch"
   ]
  },
  {
   "cell_type": "code",
   "execution_count": 138,
   "id": "008d0631",
   "metadata": {},
   "outputs": [],
   "source": [
    "retriever = docsearch.as_retriever(search_type=\"similarity\", search_kwargs={\"k\":15})"
   ]
  },
  {
   "cell_type": "code",
   "execution_count": 141,
   "id": "126a5b47",
   "metadata": {},
   "outputs": [],
   "source": [
    "retrieved_docs = retriever.invoke(\"takeoff\")"
   ]
  },
  {
   "cell_type": "code",
   "execution_count": 142,
   "id": "c07f331d",
   "metadata": {},
   "outputs": [
    {
     "data": {
      "text/plain": [
       "[Document(id='23ef557e-e8ec-491c-ae44-afd0530a143d', metadata={'chunk_type': 'imports', 'source': 'Data/client.py'}, page_content='from __future__ import print_function\\nfrom .utils import *\\nfrom .types import *\\nimport msgpackrpc\\nimport numpy as np\\nimport msgpack\\nimport time\\nimport math\\nimport logging'),\n",
       " Document(id='793b38d3-3680-4d47-8832-d3547600f392', metadata={'chunk_type': 'code_group', 'name': 'simGetImage', 'source': 'Data/client.py'}, page_content='def simGetImage(self, camera_name, image_type, vehicle_name = \\'\\', external = False):\\n        \"\"\"\\n        Get a single image\\n\\n        Returns bytes of png format image which can be dumped into abinary file to create .png image\\n        `string_to_uint8_array()` can be used to convert into Numpy unit8 array\\n        See https://microsoft.github.io/AirSim/image_apis/ for details\\n\\n        Args:\\n            camera_name (str): Name of the camera, for backwards compatibility, ID numbers such as 0,1,etc. can also be used\\n            image_type (ImageType): Type of image required\\n            vehicle_name (str, optional): Name of the vehicle with the camera\\n            external (bool, optional): Whether the camera is an External Camera\\n\\n        Returns:\\n            Binary string literal of compressed png image\\n        \"\"\"\\n#todo : in future remove below, it\\'s only for compatibility to pre v1.2\\n        camera_name = str(camera_name)\\n\\n#because this method returns std::vector < uint8>, msgpack decides to encode it as a string unfortunately.\\n        result = self.client.call(\\'simGetImage\\', camera_name, image_type, vehicle_name, external)\\n        if (result == \"\" or result == \"\\\\0\"):\\n            return None\\n        return result'),\n",
       " Document(id='7748dea2-4e3d-4b85-bbf0-bafadeca0807', metadata={'chunk_type': 'code_group', 'name': '__init__', 'source': 'Data/client.py'}, page_content='def __init__(self, ip = \"\", port = 41451, timeout_value = 3600):\\n        if (ip == \"\"):\\n            ip = \"127.0.0.1\"\\n        self.client = msgpackrpc.Client(msgpackrpc.Address(ip, port), timeout = timeout_value, pack_encoding = \\'utf-8\\', unpack_encoding = \\'utf-8\\')\\n\\ndef reset(self):\\n        \"\"\"\\n        Reset the vehicle to its original starting state\\n\\n        Note that you must call `enableApiControl` and `armDisarm` again after the call to reset\\n        \"\"\"\\n        self.client.call(\\'reset\\')\\n\\ndef ping(self):\\n        \"\"\"\\n        If connection is established then this call will return true otherwise it will be blocked until timeout\\n\\n        Returns:\\n            bool:\\n        \"\"\"\\n        return self.client.call(\\'ping\\')\\n\\ndef getClientVersion(self):\\n        return 1\\n\\ndef getServerVersion(self):\\n        return self.client.call(\\'getServerVersion\\')\\n\\ndef getMinRequiredServerVersion(self):\\n        return 1\\n\\ndef getMinRequiredClientVersion(self):\\n        return self.client.call(\\'getMinRequiredClientVersion\\')\\n\\ndef enableApiControl(self, is_enabled, vehicle_name = \\'\\'):\\n        \"\"\"\\n        Enables or disables API control for vehicle corresponding to vehicle_name\\n\\n        Args:\\n            is_enabled (bool): True to enable, False to disable API control\\n            vehicle_name (str, optional): Name of the vehicle to send this command to\\n        \"\"\"\\n        self.client.call(\\'enableApiControl\\', is_enabled, vehicle_name)'),\n",
       " Document(id='6562dee8-202d-4353-add9-457f6c7ea354', metadata={'chunk_type': 'code_group', 'name': 'moveByVelocityZBodyFrameAsync', 'source': 'Data/client.py'}, page_content='def moveByVelocityZBodyFrameAsync(self, vx, vy, z, duration, drivetrain = DrivetrainType.MaxDegreeOfFreedom, yaw_mode = YawMode(), vehicle_name = \\'\\'):\\n        \"\"\"\\n        Args:\\n            vx (float): desired velocity in the X axis of the vehicle\\'s local NED frame\\n            vy (float): desired velocity in the Y axis of the vehicle\\'s local NED frame\\n            z (float): desired Z value (in local NED frame of the vehicle)\\n            duration (float): Desired amount of time (seconds), to send this command for\\n            drivetrain (DrivetrainType, optional):\\n            yaw_mode (YawMode, optional):\\n            vehicle_name (str, optional): Name of the multirotor to send this command to\\n\\n        Returns:\\n            msgpackrpc.future.Future: future. call .join() to wait for method to finish. Example: client.METHOD().join()\\n        \"\"\"\\n\\n        return self.client.call_async(\\'moveByVelocityZBodyFrame\\', vx, vy, z, duration, drivetrain, yaw_mode, vehicle_name)\\n\\ndef moveByAngleZAsync(self, pitch, roll, z, yaw, duration, vehicle_name = \\'\\'):\\n        logging.warning(\"moveByAngleZAsync API is deprecated, use moveByRollPitchYawZAsync() API instead\")\\n        return self.client.call_async(\\'moveByRollPitchYawZ\\', roll, -pitch, -yaw, z, duration, vehicle_name)'),\n",
       " Document(id='4f379762-7e1c-4ed6-91ca-b315931da055', metadata={'chunk_type': 'split_segment', 'name': 'moveByManualAsync', 'source': 'Data/client.py'}, page_content='def moveByManualAsync(self, vx_max, vy_max, z_min, duration, drivetrain = DrivetrainType.MaxDegreeOfFreedom, yaw_mode = YawMode(), vehicle_name = \\'\\'):\\n        \"\"\"\\n        - Read current RC state and use it to control the vehicles.\\n\\n        Parameters sets up the constraints on velocity and minimum altitude while flying. If RC state is detected to violate these constraints\\n        then that RC state would be ignored.'),\n",
       " Document(id='ff33378b-dac3-44ad-9a3a-c7265873937a', metadata={'chunk_type': 'split_segment', 'name': 'moveByManualAsync', 'source': 'Data/client.py'}, page_content='Args:\\n            vx_max (float): max velocity allowed in x direction\\n            vy_max (float): max velocity allowed in y direction\\n            vz_max (float): max velocity allowed in z direction\\n            z_min (float): min z allowed for vehicle position\\n            duration (float): after this duration vehicle would switch back to non-manual mode\\n            drivetrain (DrivetrainType): when ForwardOnly, vehicle rotates itself so that its front is always facing the direction of travel. If MaxDegreeOfFreedom then it doesn\\'t do that (crab-like movement)\\n            yaw_mode (YawMode): Specifies if vehicle should face at given angle (is_rate=False) or should be rotating around its axis at given rate (is_rate=True)\\n            vehicle_name (str, optional): Name of the multirotor to send this command to\\n        Returns:\\n            msgpackrpc.future.Future: future. call .join() to wait for method to finish. Example: client.METHOD().join()\\n        \"\"\"\\n        return self.client.call_async(\\'moveByManual\\', vx_max, vy_max, z_min, duration, drivetrain, yaw_mode, vehicle_name)'),\n",
       " Document(id='aaee0d43-5e5d-4134-a538-a77c7b3f497e', metadata={'chunk_type': 'code_group', 'name': 'rotateToYawAsync', 'source': 'Data/client.py'}, page_content='def rotateToYawAsync(self, yaw, timeout_sec = 3e+38, margin = 5, vehicle_name = \\'\\'):\\n        return self.client.call_async(\\'rotateToYaw\\', yaw, timeout_sec, margin, vehicle_name)\\n\\ndef rotateByYawRateAsync(self, yaw_rate, duration, vehicle_name = \\'\\'):\\n        return self.client.call_async(\\'rotateByYawRate\\', yaw_rate, duration, vehicle_name)\\n\\ndef hoverAsync(self, vehicle_name = \\'\\'):\\n        return self.client.call_async(\\'hover\\', vehicle_name)\\n\\ndef moveByRC(self, rcdata = RCData(), vehicle_name = \\'\\'):\\n        return self.client.call(\\'moveByRC\\', rcdata, vehicle_name)\\n\\ndef getMultirotorState(self, vehicle_name = \\'\\'):\\n        \"\"\"\\n        The position inside the returned MultirotorState is in the frame of the vehicle\\'s starting point\\n\\n        Args:\\n            vehicle_name (str, optional): Vehicle to get the state of\\n\\n        Returns:\\n            MultirotorState:\\n        \"\"\"\\n        return MultirotorState.from_msgpack(self.client.call(\\'getMultirotorState\\', vehicle_name))\\n\\ndef getRotorStates(self, vehicle_name = \\'\\'):\\n        \"\"\"\\n        Used to obtain the current state of all a multirotor\\'s rotors. The state includes the speeds,\\n        thrusts and torques for all rotors.\\n\\n        Args:\\n            vehicle_name (str, optional): Vehicle to get the rotor state of\\n\\n        Returns:\\n            RotorStates: Containing a timestamp and the speed, thrust and torque of all rotors.\\n        \"\"\"\\n        return RotorStates.from_msgpack(self.client.call(\\'getRotorStates\\', vehicle_name))'),\n",
       " Document(id='d7e9f0d2-c788-4423-820e-176a0158a101', metadata={'chunk_type': 'code_group', 'name': 'simCreateVoxelGrid', 'source': 'Data/client.py'}, page_content='def simCreateVoxelGrid(self, position, x, y, z, res, of):\\n        \"\"\"\\n        Construct and save a binvox-formatted voxel grid of environment\\n\\n        Args:\\n            position (Vector3r): Position around which voxel grid is centered in m\\n            x, y, z (int): Size of each voxel grid dimension in m\\n            res (float): Resolution of voxel grid in m\\n            of (str): Name of output file to save voxel grid as\\n\\n        Returns:\\n            bool: True if output written to file successfully, else False\\n        \"\"\"\\n        return self.client.call(\\'simCreateVoxelGrid\\', position, x, y, z, res, of)\\n\\ndef __init__(self, ip = \"\", port = 41451, timeout_value = 3600):\\n        super(MultirotorClient, self).__init__(ip, port, timeout_value)\\n\\ndef takeoffAsync(self, timeout_sec = 20, vehicle_name = \\'\\'):\\n        \"\"\"\\n        Takeoff vehicle to 3m above ground. Vehicle should not be moving when this API is used\\n\\n        Args:\\n            timeout_sec (int, optional): Timeout for the vehicle to reach desired altitude\\n            vehicle_name (str, optional): Name of the vehicle to send this command to\\n\\n        Returns:\\n            msgpackrpc.future.Future: future. call .join() to wait for method to finish. Example: client.METHOD().join()\\n        \"\"\"\\n        return self.client.call_async(\\'takeoff\\', timeout_sec, vehicle_name)'),\n",
       " Document(id='64871dbe-4109-4955-a905-500b88d1d146', metadata={'chunk_type': 'code_group', 'name': 'moveByAngleThrottleAsync', 'source': 'Data/client.py'}, page_content='def moveByAngleThrottleAsync(self, pitch, roll, throttle, yaw_rate, duration, vehicle_name = \\'\\'):\\n        logging.warning(\"moveByAngleThrottleAsync API is deprecated, use moveByRollPitchYawrateThrottleAsync() API instead\")\\n        return self.client.call_async(\\'moveByRollPitchYawrateThrottle\\', roll, -pitch, -yaw_rate, throttle, duration, vehicle_name)\\n\\ndef moveByVelocityAsync(self, vx, vy, vz, duration, drivetrain = DrivetrainType.MaxDegreeOfFreedom, yaw_mode = YawMode(), vehicle_name = \\'\\'):\\n        \"\"\"\\n        Args:\\n            vx (float): desired velocity in world (NED) X axis\\n            vy (float): desired velocity in world (NED) Y axis\\n            vz (float): desired velocity in world (NED) Z axis\\n            duration (float): Desired amount of time (seconds), to send this command for\\n            drivetrain (DrivetrainType, optional):\\n            yaw_mode (YawMode, optional):\\n            vehicle_name (str, optional): Name of the multirotor to send this command to\\n\\n        Returns:\\n            msgpackrpc.future.Future: future. call .join() to wait for method to finish. Example: client.METHOD().join()\\n        \"\"\"\\n        return self.client.call_async(\\'moveByVelocity\\', vx, vy, vz, duration, drivetrain, yaw_mode, vehicle_name)\\n\\ndef moveByVelocityZAsync(self, vx, vy, z, duration, drivetrain = DrivetrainType.MaxDegreeOfFreedom, yaw_mode = YawMode(), vehicle_name = \\'\\'):\\n        return self.client.call_async(\\'moveByVelocityZ\\', vx, vy, z, duration, drivetrain, yaw_mode, vehicle_name)'),\n",
       " Document(id='25c5ea6b-05b0-4448-a023-22179d563378', metadata={'chunk_type': 'code_group', 'name': 'simRunConsoleCommand', 'source': 'Data/client.py'}, page_content='def simRunConsoleCommand(self, command):\\n        \"\"\"\\n        Allows the client to execute a command in Unreal\\'s native console, via an API.\\n        Affords access to the countless built-in commands such as \"stat unit\", \"stat fps\", \"open [map]\", adjust any config settings, etc. etc.\\n        Allows the user to create bespoke APIs very easily, by adding a custom event to the level blueprint, and then calling the console command \"ce MyEventName [args]\". No recompilation of AirSim needed!\\n\\n        Args:\\n            command ([string]): Desired Unreal Engine Console command to run\\n\\n        Returns:\\n            [bool]: Success\\n        \"\"\"\\n        return self.client.call(\\'simRunConsoleCommand\\', command)\\n\\ndef startRecording(self):\\n        \"\"\"\\n        Start Recording\\n\\n        Recording will be done according to the settings\\n        \"\"\"\\n        self.client.call(\\'startRecording\\')\\n\\ndef stopRecording(self):\\n        \"\"\"\\n        Stop Recording\\n        \"\"\"\\n        self.client.call(\\'stopRecording\\')\\n\\ndef isRecording(self):\\n        \"\"\"\\n        Whether Recording is running or not\\n\\n        Returns:\\n            bool: True if Recording, else False\\n        \"\"\"\\n        return self.client.call(\\'isRecording\\')\\n\\ndef simSetWind(self, wind):\\n        \"\"\"\\n        Set simulated wind, in World frame, NED direction, m/s\\n\\n        Args:\\n            wind (Vector3r): Wind, in World frame, NED direction, in m/s\\n        \"\"\"\\n        self.client.call(\\'simSetWind\\', wind)'),\n",
       " Document(id='2a56a440-9c37-4afe-a08a-878afda8d1bc', metadata={'chunk_type': 'code_group', 'name': 'simSetLightIntensity', 'source': 'Data/client.py'}, page_content='def simSetLightIntensity(self, light_name, intensity):\\n        \"\"\"\\n        Change intensity of named light\\n\\n        Args:\\n            light_name (str): Name of light to change\\n            intensity (float): New intensity value\\n\\n        Returns:\\n            bool: True if successful, otherwise False\\n        \"\"\"\\n        return self.client.call(\"simSetLightIntensity\", light_name, intensity)\\n\\ndef simSwapTextures(self, tags, tex_id = 0, component_id = 0, material_id = 0):\\n        \"\"\"\\n        Runtime Swap Texture API\\n\\n        See https://microsoft.github.io/AirSim/retexturing/ for details\\n\\n        Args:\\n            tags (str): string of \",\" or \", \" delimited tags to identify on which actors to perform the swap\\n            tex_id (int, optional): indexes the array of textures assigned to each actor undergoing a swap\\n\\n                                    If out-of-bounds for some object\\'s texture set, it will be taken modulo the number of textures that were available\\n            component_id (int, optional):\\n            material_id (int, optional):\\n\\n        Returns:\\n            list[str]: List of objects which matched the provided tags and had the texture swap perfomed\\n        \"\"\"\\n        return self.client.call(\"simSwapTextures\", tags, tex_id, component_id, material_id)'),\n",
       " Document(id='2143527e-9266-414e-8a63-be4507ab2e66', metadata={'chunk_type': 'code_group', 'name': 'confirmConnection', 'source': 'Data/client.py'}, page_content='def confirmConnection(self):\\n        \"\"\"\\n        Checks state of connection every 1 sec and reports it in Console so user can see the progress for connection.\\n        \"\"\"\\n        if self.ping():\\n            print(\"Connected!\")\\n        else:\\n             print(\"Ping returned false!\")\\n        server_ver = self.getServerVersion()\\n        client_ver = self.getClientVersion()\\n        server_min_ver = self.getMinRequiredServerVersion()\\n        client_min_ver = self.getMinRequiredClientVersion()\\n\\n        ver_info = \"Client Ver:\" + str(client_ver) + \" (Min Req: \" + str(client_min_ver) + \\\\\\n              \"), Server Ver:\" + str(server_ver) + \" (Min Req: \" + str(server_min_ver) + \")\"\\n\\n        if server_ver < server_min_ver:\\n            print(ver_info, file=sys.stderr)\\n            print(\"AirSim server is of older version and not supported by this client. Please upgrade!\")\\n        elif client_ver < client_min_ver:\\n            print(ver_info, file=sys.stderr)\\n            print(\"AirSim client is of older version and not supported by this server. Please upgrade!\")\\n        else:\\n            print(ver_info)\\n        print(\\'\\')'),\n",
       " Document(id='49712d4b-b4c9-459a-a7fa-6c6504fafddd', metadata={'chunk_type': 'code_group', 'name': 'simContinueForTime', 'source': 'Data/client.py'}, page_content='def simContinueForTime(self, seconds):\\n        \"\"\"\\n        Continue the simulation for the specified number of seconds\\n\\n        Args:\\n            seconds (float): Time to run the simulation for\\n        \"\"\"\\n        self.client.call(\\'simContinueForTime\\', seconds)\\n\\ndef simContinueForFrames(self, frames):\\n        \"\"\"\\n        Continue (or resume if paused) the simulation for the specified number of frames, after which the simulation will be paused.\\n\\n        Args:\\n            frames (int): Frames to run the simulation for\\n        \"\"\"\\n        self.client.call(\\'simContinueForFrames\\', frames)\\n\\ndef getHomeGeoPoint(self, vehicle_name = \\'\\'):\\n        \"\"\"\\n        Get the Home location of the vehicle\\n\\n        Args:\\n            vehicle_name (str, optional): Name of vehicle to get home location of\\n\\n        Returns:\\n            GeoPoint: Home location of the vehicle\\n        \"\"\"\\n        return GeoPoint.from_msgpack(self.client.call(\\'getHomeGeoPoint\\', vehicle_name))'),\n",
       " Document(id='d74bcae9-e40f-4eb1-864f-e0fea7a6502b', metadata={'chunk_type': 'code_group', 'name': 'simGetImages', 'source': 'Data/client.py'}, page_content='def simGetImages(self, requests, vehicle_name = \\'\\', external = False):\\n        \"\"\"\\n        Get multiple images\\n\\n        See https://microsoft.github.io/AirSim/image_apis/ for details and examples\\n\\n        Args:\\n            requests (list[ImageRequest]): Images required\\n            vehicle_name (str, optional): Name of vehicle associated with the camera\\n            external (bool, optional): Whether the camera is an External Camera\\n\\n        Returns:\\n            list[ImageResponse]:\\n        \"\"\"\\n        responses_raw = self.client.call(\\'simGetImages\\', requests, vehicle_name, external)\\n        return [ImageResponse.from_msgpack(response_raw) for response_raw in responses_raw]\\n\\ndef simGetPresetLensSettings(self, camera_name, vehicle_name = \\'\\', external = False):  \\n        result = self.client.call(\\'simGetPresetLensSettings\\', camera_name, vehicle_name, external)\\n        if (result == \"\" or result == \"\\\\0\"):\\n            return None\\n        return result\\n\\ndef simGetLensSettings(self, camera_name, vehicle_name = \\'\\', external = False):  \\n        result = self.client.call(\\'simGetLensSettings\\', camera_name, vehicle_name, external)\\n        if (result == \"\" or result == \"\\\\0\"):\\n            return None\\n        return result\\n\\ndef simSetPresetLensSettings(self, preset_lens_settings, camera_name, vehicle_name = \\'\\', external = False):  \\n        self.client.call(\"simSetPresetLensSettings\", preset_lens_settings, camera_name, vehicle_name, external)'),\n",
       " Document(id='4c253b59-5eda-4572-ae51-dd130f4b9971', metadata={'chunk_type': 'code_group', 'name': 'isApiControlEnabled', 'source': 'Data/client.py'}, page_content='def isApiControlEnabled(self, vehicle_name = \\'\\'):\\n        \"\"\"\\n        Returns true if API control is established.\\n\\n        If false (which is default) then API calls would be ignored. After a successful call to `enableApiControl`, `isApiControlEnabled` should return true.\\n\\n        Args:\\n            vehicle_name (str, optional): Name of the vehicle\\n\\n        Returns:\\n            bool: If API control is enabled\\n        \"\"\"\\n        return self.client.call(\\'isApiControlEnabled\\', vehicle_name)\\n\\ndef armDisarm(self, arm, vehicle_name = \\'\\'):\\n        \"\"\"\\n        Arms or disarms vehicle\\n\\n        Args:\\n            arm (bool): True to arm, False to disarm the vehicle\\n            vehicle_name (str, optional): Name of the vehicle to send this command to\\n\\n        Returns:\\n            bool: Success\\n        \"\"\"\\n        return self.client.call(\\'armDisarm\\', arm, vehicle_name)\\n\\ndef simPause(self, is_paused):\\n        \"\"\"\\n        Pauses simulation\\n\\n        Args:\\n            is_paused (bool): True to pause the simulation, False to release\\n        \"\"\"\\n        self.client.call(\\'simPause\\', is_paused)\\n\\ndef simIsPause(self):\\n        \"\"\"\\n        Returns true if the simulation is paused\\n\\n        Returns:\\n            bool: If the simulation is paused\\n        \"\"\"\\n        return self.client.call(\"simIsPaused\")')]"
      ]
     },
     "execution_count": 142,
     "metadata": {},
     "output_type": "execute_result"
    }
   ],
   "source": [
    "retrieved_docs"
   ]
  },
  {
   "cell_type": "code",
   "execution_count": 143,
   "id": "8514d267",
   "metadata": {},
   "outputs": [],
   "source": [
    "from langchain.retrievers import EnsembleRetriever\n",
    "from langchain.vectorstores import Pinecone\n",
    "from langchain_community.retrievers import BM25Retriever\n",
    "\n",
    "# Vector retriever\n",
    "vector_retriever = docsearch.as_retriever(\n",
    "    search_type=\"similarity\",\n",
    "    search_kwargs={\"k\": 15}\n",
    ")\n",
    "\n",
    "# BM25 retriever \n",
    "bm25_retriever = BM25Retriever.from_documents(documents)  \n",
    "bm25_retriever.k = 15\n",
    "\n",
    "# Hybrid retriever\n",
    "hybrid_retriever = EnsembleRetriever(\n",
    "    retrievers=[vector_retriever, bm25_retriever],\n",
    "    weights=[0.7, 0.3]   # weights can be adjusted as needed\n",
    ")\n",
    "\n",
    "retrieved_docs = hybrid_retriever.invoke(\"takeoff\")\n"
   ]
  },
  {
   "cell_type": "code",
   "execution_count": 144,
   "id": "33185cb9",
   "metadata": {},
   "outputs": [
    {
     "data": {
      "text/plain": [
       "[Document(id='23ef557e-e8ec-491c-ae44-afd0530a143d', metadata={'chunk_type': 'imports', 'source': 'Data/client.py'}, page_content='from __future__ import print_function\\nfrom .utils import *\\nfrom .types import *\\nimport msgpackrpc\\nimport numpy as np\\nimport msgpack\\nimport time\\nimport math\\nimport logging'),\n",
       " Document(id='793b38d3-3680-4d47-8832-d3547600f392', metadata={'chunk_type': 'code_group', 'name': 'simGetImage', 'source': 'Data/client.py'}, page_content='def simGetImage(self, camera_name, image_type, vehicle_name = \\'\\', external = False):\\n        \"\"\"\\n        Get a single image\\n\\n        Returns bytes of png format image which can be dumped into abinary file to create .png image\\n        `string_to_uint8_array()` can be used to convert into Numpy unit8 array\\n        See https://microsoft.github.io/AirSim/image_apis/ for details\\n\\n        Args:\\n            camera_name (str): Name of the camera, for backwards compatibility, ID numbers such as 0,1,etc. can also be used\\n            image_type (ImageType): Type of image required\\n            vehicle_name (str, optional): Name of the vehicle with the camera\\n            external (bool, optional): Whether the camera is an External Camera\\n\\n        Returns:\\n            Binary string literal of compressed png image\\n        \"\"\"\\n#todo : in future remove below, it\\'s only for compatibility to pre v1.2\\n        camera_name = str(camera_name)\\n\\n#because this method returns std::vector < uint8>, msgpack decides to encode it as a string unfortunately.\\n        result = self.client.call(\\'simGetImage\\', camera_name, image_type, vehicle_name, external)\\n        if (result == \"\" or result == \"\\\\0\"):\\n            return None\\n        return result'),\n",
       " Document(id='7748dea2-4e3d-4b85-bbf0-bafadeca0807', metadata={'chunk_type': 'code_group', 'name': '__init__', 'source': 'Data/client.py'}, page_content='def __init__(self, ip = \"\", port = 41451, timeout_value = 3600):\\n        if (ip == \"\"):\\n            ip = \"127.0.0.1\"\\n        self.client = msgpackrpc.Client(msgpackrpc.Address(ip, port), timeout = timeout_value, pack_encoding = \\'utf-8\\', unpack_encoding = \\'utf-8\\')\\n\\ndef reset(self):\\n        \"\"\"\\n        Reset the vehicle to its original starting state\\n\\n        Note that you must call `enableApiControl` and `armDisarm` again after the call to reset\\n        \"\"\"\\n        self.client.call(\\'reset\\')\\n\\ndef ping(self):\\n        \"\"\"\\n        If connection is established then this call will return true otherwise it will be blocked until timeout\\n\\n        Returns:\\n            bool:\\n        \"\"\"\\n        return self.client.call(\\'ping\\')\\n\\ndef getClientVersion(self):\\n        return 1\\n\\ndef getServerVersion(self):\\n        return self.client.call(\\'getServerVersion\\')\\n\\ndef getMinRequiredServerVersion(self):\\n        return 1\\n\\ndef getMinRequiredClientVersion(self):\\n        return self.client.call(\\'getMinRequiredClientVersion\\')\\n\\ndef enableApiControl(self, is_enabled, vehicle_name = \\'\\'):\\n        \"\"\"\\n        Enables or disables API control for vehicle corresponding to vehicle_name\\n\\n        Args:\\n            is_enabled (bool): True to enable, False to disable API control\\n            vehicle_name (str, optional): Name of the vehicle to send this command to\\n        \"\"\"\\n        self.client.call(\\'enableApiControl\\', is_enabled, vehicle_name)'),\n",
       " Document(id='6562dee8-202d-4353-add9-457f6c7ea354', metadata={'chunk_type': 'code_group', 'name': 'moveByVelocityZBodyFrameAsync', 'source': 'Data/client.py'}, page_content='def moveByVelocityZBodyFrameAsync(self, vx, vy, z, duration, drivetrain = DrivetrainType.MaxDegreeOfFreedom, yaw_mode = YawMode(), vehicle_name = \\'\\'):\\n        \"\"\"\\n        Args:\\n            vx (float): desired velocity in the X axis of the vehicle\\'s local NED frame\\n            vy (float): desired velocity in the Y axis of the vehicle\\'s local NED frame\\n            z (float): desired Z value (in local NED frame of the vehicle)\\n            duration (float): Desired amount of time (seconds), to send this command for\\n            drivetrain (DrivetrainType, optional):\\n            yaw_mode (YawMode, optional):\\n            vehicle_name (str, optional): Name of the multirotor to send this command to\\n\\n        Returns:\\n            msgpackrpc.future.Future: future. call .join() to wait for method to finish. Example: client.METHOD().join()\\n        \"\"\"\\n\\n        return self.client.call_async(\\'moveByVelocityZBodyFrame\\', vx, vy, z, duration, drivetrain, yaw_mode, vehicle_name)\\n\\ndef moveByAngleZAsync(self, pitch, roll, z, yaw, duration, vehicle_name = \\'\\'):\\n        logging.warning(\"moveByAngleZAsync API is deprecated, use moveByRollPitchYawZAsync() API instead\")\\n        return self.client.call_async(\\'moveByRollPitchYawZ\\', roll, -pitch, -yaw, z, duration, vehicle_name)'),\n",
       " Document(id='4f379762-7e1c-4ed6-91ca-b315931da055', metadata={'chunk_type': 'split_segment', 'name': 'moveByManualAsync', 'source': 'Data/client.py'}, page_content='def moveByManualAsync(self, vx_max, vy_max, z_min, duration, drivetrain = DrivetrainType.MaxDegreeOfFreedom, yaw_mode = YawMode(), vehicle_name = \\'\\'):\\n        \"\"\"\\n        - Read current RC state and use it to control the vehicles.\\n\\n        Parameters sets up the constraints on velocity and minimum altitude while flying. If RC state is detected to violate these constraints\\n        then that RC state would be ignored.'),\n",
       " Document(id='ff33378b-dac3-44ad-9a3a-c7265873937a', metadata={'chunk_type': 'split_segment', 'name': 'moveByManualAsync', 'source': 'Data/client.py'}, page_content='Args:\\n            vx_max (float): max velocity allowed in x direction\\n            vy_max (float): max velocity allowed in y direction\\n            vz_max (float): max velocity allowed in z direction\\n            z_min (float): min z allowed for vehicle position\\n            duration (float): after this duration vehicle would switch back to non-manual mode\\n            drivetrain (DrivetrainType): when ForwardOnly, vehicle rotates itself so that its front is always facing the direction of travel. If MaxDegreeOfFreedom then it doesn\\'t do that (crab-like movement)\\n            yaw_mode (YawMode): Specifies if vehicle should face at given angle (is_rate=False) or should be rotating around its axis at given rate (is_rate=True)\\n            vehicle_name (str, optional): Name of the multirotor to send this command to\\n        Returns:\\n            msgpackrpc.future.Future: future. call .join() to wait for method to finish. Example: client.METHOD().join()\\n        \"\"\"\\n        return self.client.call_async(\\'moveByManual\\', vx_max, vy_max, z_min, duration, drivetrain, yaw_mode, vehicle_name)'),\n",
       " Document(id='aaee0d43-5e5d-4134-a538-a77c7b3f497e', metadata={'chunk_type': 'code_group', 'name': 'rotateToYawAsync', 'source': 'Data/client.py'}, page_content='def rotateToYawAsync(self, yaw, timeout_sec = 3e+38, margin = 5, vehicle_name = \\'\\'):\\n        return self.client.call_async(\\'rotateToYaw\\', yaw, timeout_sec, margin, vehicle_name)\\n\\ndef rotateByYawRateAsync(self, yaw_rate, duration, vehicle_name = \\'\\'):\\n        return self.client.call_async(\\'rotateByYawRate\\', yaw_rate, duration, vehicle_name)\\n\\ndef hoverAsync(self, vehicle_name = \\'\\'):\\n        return self.client.call_async(\\'hover\\', vehicle_name)\\n\\ndef moveByRC(self, rcdata = RCData(), vehicle_name = \\'\\'):\\n        return self.client.call(\\'moveByRC\\', rcdata, vehicle_name)\\n\\ndef getMultirotorState(self, vehicle_name = \\'\\'):\\n        \"\"\"\\n        The position inside the returned MultirotorState is in the frame of the vehicle\\'s starting point\\n\\n        Args:\\n            vehicle_name (str, optional): Vehicle to get the state of\\n\\n        Returns:\\n            MultirotorState:\\n        \"\"\"\\n        return MultirotorState.from_msgpack(self.client.call(\\'getMultirotorState\\', vehicle_name))\\n\\ndef getRotorStates(self, vehicle_name = \\'\\'):\\n        \"\"\"\\n        Used to obtain the current state of all a multirotor\\'s rotors. The state includes the speeds,\\n        thrusts and torques for all rotors.\\n\\n        Args:\\n            vehicle_name (str, optional): Vehicle to get the rotor state of\\n\\n        Returns:\\n            RotorStates: Containing a timestamp and the speed, thrust and torque of all rotors.\\n        \"\"\"\\n        return RotorStates.from_msgpack(self.client.call(\\'getRotorStates\\', vehicle_name))'),\n",
       " Document(id='d7e9f0d2-c788-4423-820e-176a0158a101', metadata={'chunk_type': 'code_group', 'name': 'simCreateVoxelGrid', 'source': 'Data/client.py'}, page_content='def simCreateVoxelGrid(self, position, x, y, z, res, of):\\n        \"\"\"\\n        Construct and save a binvox-formatted voxel grid of environment\\n\\n        Args:\\n            position (Vector3r): Position around which voxel grid is centered in m\\n            x, y, z (int): Size of each voxel grid dimension in m\\n            res (float): Resolution of voxel grid in m\\n            of (str): Name of output file to save voxel grid as\\n\\n        Returns:\\n            bool: True if output written to file successfully, else False\\n        \"\"\"\\n        return self.client.call(\\'simCreateVoxelGrid\\', position, x, y, z, res, of)\\n\\ndef __init__(self, ip = \"\", port = 41451, timeout_value = 3600):\\n        super(MultirotorClient, self).__init__(ip, port, timeout_value)\\n\\ndef takeoffAsync(self, timeout_sec = 20, vehicle_name = \\'\\'):\\n        \"\"\"\\n        Takeoff vehicle to 3m above ground. Vehicle should not be moving when this API is used\\n\\n        Args:\\n            timeout_sec (int, optional): Timeout for the vehicle to reach desired altitude\\n            vehicle_name (str, optional): Name of the vehicle to send this command to\\n\\n        Returns:\\n            msgpackrpc.future.Future: future. call .join() to wait for method to finish. Example: client.METHOD().join()\\n        \"\"\"\\n        return self.client.call_async(\\'takeoff\\', timeout_sec, vehicle_name)'),\n",
       " Document(id='64871dbe-4109-4955-a905-500b88d1d146', metadata={'chunk_type': 'code_group', 'name': 'moveByAngleThrottleAsync', 'source': 'Data/client.py'}, page_content='def moveByAngleThrottleAsync(self, pitch, roll, throttle, yaw_rate, duration, vehicle_name = \\'\\'):\\n        logging.warning(\"moveByAngleThrottleAsync API is deprecated, use moveByRollPitchYawrateThrottleAsync() API instead\")\\n        return self.client.call_async(\\'moveByRollPitchYawrateThrottle\\', roll, -pitch, -yaw_rate, throttle, duration, vehicle_name)\\n\\ndef moveByVelocityAsync(self, vx, vy, vz, duration, drivetrain = DrivetrainType.MaxDegreeOfFreedom, yaw_mode = YawMode(), vehicle_name = \\'\\'):\\n        \"\"\"\\n        Args:\\n            vx (float): desired velocity in world (NED) X axis\\n            vy (float): desired velocity in world (NED) Y axis\\n            vz (float): desired velocity in world (NED) Z axis\\n            duration (float): Desired amount of time (seconds), to send this command for\\n            drivetrain (DrivetrainType, optional):\\n            yaw_mode (YawMode, optional):\\n            vehicle_name (str, optional): Name of the multirotor to send this command to\\n\\n        Returns:\\n            msgpackrpc.future.Future: future. call .join() to wait for method to finish. Example: client.METHOD().join()\\n        \"\"\"\\n        return self.client.call_async(\\'moveByVelocity\\', vx, vy, vz, duration, drivetrain, yaw_mode, vehicle_name)\\n\\ndef moveByVelocityZAsync(self, vx, vy, z, duration, drivetrain = DrivetrainType.MaxDegreeOfFreedom, yaw_mode = YawMode(), vehicle_name = \\'\\'):\\n        return self.client.call_async(\\'moveByVelocityZ\\', vx, vy, z, duration, drivetrain, yaw_mode, vehicle_name)'),\n",
       " Document(id='25c5ea6b-05b0-4448-a023-22179d563378', metadata={'chunk_type': 'code_group', 'name': 'simRunConsoleCommand', 'source': 'Data/client.py'}, page_content='def simRunConsoleCommand(self, command):\\n        \"\"\"\\n        Allows the client to execute a command in Unreal\\'s native console, via an API.\\n        Affords access to the countless built-in commands such as \"stat unit\", \"stat fps\", \"open [map]\", adjust any config settings, etc. etc.\\n        Allows the user to create bespoke APIs very easily, by adding a custom event to the level blueprint, and then calling the console command \"ce MyEventName [args]\". No recompilation of AirSim needed!\\n\\n        Args:\\n            command ([string]): Desired Unreal Engine Console command to run\\n\\n        Returns:\\n            [bool]: Success\\n        \"\"\"\\n        return self.client.call(\\'simRunConsoleCommand\\', command)\\n\\ndef startRecording(self):\\n        \"\"\"\\n        Start Recording\\n\\n        Recording will be done according to the settings\\n        \"\"\"\\n        self.client.call(\\'startRecording\\')\\n\\ndef stopRecording(self):\\n        \"\"\"\\n        Stop Recording\\n        \"\"\"\\n        self.client.call(\\'stopRecording\\')\\n\\ndef isRecording(self):\\n        \"\"\"\\n        Whether Recording is running or not\\n\\n        Returns:\\n            bool: True if Recording, else False\\n        \"\"\"\\n        return self.client.call(\\'isRecording\\')\\n\\ndef simSetWind(self, wind):\\n        \"\"\"\\n        Set simulated wind, in World frame, NED direction, m/s\\n\\n        Args:\\n            wind (Vector3r): Wind, in World frame, NED direction, in m/s\\n        \"\"\"\\n        self.client.call(\\'simSetWind\\', wind)'),\n",
       " Document(id='2a56a440-9c37-4afe-a08a-878afda8d1bc', metadata={'chunk_type': 'code_group', 'name': 'simSetLightIntensity', 'source': 'Data/client.py'}, page_content='def simSetLightIntensity(self, light_name, intensity):\\n        \"\"\"\\n        Change intensity of named light\\n\\n        Args:\\n            light_name (str): Name of light to change\\n            intensity (float): New intensity value\\n\\n        Returns:\\n            bool: True if successful, otherwise False\\n        \"\"\"\\n        return self.client.call(\"simSetLightIntensity\", light_name, intensity)\\n\\ndef simSwapTextures(self, tags, tex_id = 0, component_id = 0, material_id = 0):\\n        \"\"\"\\n        Runtime Swap Texture API\\n\\n        See https://microsoft.github.io/AirSim/retexturing/ for details\\n\\n        Args:\\n            tags (str): string of \",\" or \", \" delimited tags to identify on which actors to perform the swap\\n            tex_id (int, optional): indexes the array of textures assigned to each actor undergoing a swap\\n\\n                                    If out-of-bounds for some object\\'s texture set, it will be taken modulo the number of textures that were available\\n            component_id (int, optional):\\n            material_id (int, optional):\\n\\n        Returns:\\n            list[str]: List of objects which matched the provided tags and had the texture swap perfomed\\n        \"\"\"\\n        return self.client.call(\"simSwapTextures\", tags, tex_id, component_id, material_id)'),\n",
       " Document(id='2143527e-9266-414e-8a63-be4507ab2e66', metadata={'chunk_type': 'code_group', 'name': 'confirmConnection', 'source': 'Data/client.py'}, page_content='def confirmConnection(self):\\n        \"\"\"\\n        Checks state of connection every 1 sec and reports it in Console so user can see the progress for connection.\\n        \"\"\"\\n        if self.ping():\\n            print(\"Connected!\")\\n        else:\\n             print(\"Ping returned false!\")\\n        server_ver = self.getServerVersion()\\n        client_ver = self.getClientVersion()\\n        server_min_ver = self.getMinRequiredServerVersion()\\n        client_min_ver = self.getMinRequiredClientVersion()\\n\\n        ver_info = \"Client Ver:\" + str(client_ver) + \" (Min Req: \" + str(client_min_ver) + \\\\\\n              \"), Server Ver:\" + str(server_ver) + \" (Min Req: \" + str(server_min_ver) + \")\"\\n\\n        if server_ver < server_min_ver:\\n            print(ver_info, file=sys.stderr)\\n            print(\"AirSim server is of older version and not supported by this client. Please upgrade!\")\\n        elif client_ver < client_min_ver:\\n            print(ver_info, file=sys.stderr)\\n            print(\"AirSim client is of older version and not supported by this server. Please upgrade!\")\\n        else:\\n            print(ver_info)\\n        print(\\'\\')'),\n",
       " Document(id='49712d4b-b4c9-459a-a7fa-6c6504fafddd', metadata={'chunk_type': 'code_group', 'name': 'simContinueForTime', 'source': 'Data/client.py'}, page_content='def simContinueForTime(self, seconds):\\n        \"\"\"\\n        Continue the simulation for the specified number of seconds\\n\\n        Args:\\n            seconds (float): Time to run the simulation for\\n        \"\"\"\\n        self.client.call(\\'simContinueForTime\\', seconds)\\n\\ndef simContinueForFrames(self, frames):\\n        \"\"\"\\n        Continue (or resume if paused) the simulation for the specified number of frames, after which the simulation will be paused.\\n\\n        Args:\\n            frames (int): Frames to run the simulation for\\n        \"\"\"\\n        self.client.call(\\'simContinueForFrames\\', frames)\\n\\ndef getHomeGeoPoint(self, vehicle_name = \\'\\'):\\n        \"\"\"\\n        Get the Home location of the vehicle\\n\\n        Args:\\n            vehicle_name (str, optional): Name of vehicle to get home location of\\n\\n        Returns:\\n            GeoPoint: Home location of the vehicle\\n        \"\"\"\\n        return GeoPoint.from_msgpack(self.client.call(\\'getHomeGeoPoint\\', vehicle_name))'),\n",
       " Document(id='d74bcae9-e40f-4eb1-864f-e0fea7a6502b', metadata={'chunk_type': 'code_group', 'name': 'simGetImages', 'source': 'Data/client.py'}, page_content='def simGetImages(self, requests, vehicle_name = \\'\\', external = False):\\n        \"\"\"\\n        Get multiple images\\n\\n        See https://microsoft.github.io/AirSim/image_apis/ for details and examples\\n\\n        Args:\\n            requests (list[ImageRequest]): Images required\\n            vehicle_name (str, optional): Name of vehicle associated with the camera\\n            external (bool, optional): Whether the camera is an External Camera\\n\\n        Returns:\\n            list[ImageResponse]:\\n        \"\"\"\\n        responses_raw = self.client.call(\\'simGetImages\\', requests, vehicle_name, external)\\n        return [ImageResponse.from_msgpack(response_raw) for response_raw in responses_raw]\\n\\ndef simGetPresetLensSettings(self, camera_name, vehicle_name = \\'\\', external = False):  \\n        result = self.client.call(\\'simGetPresetLensSettings\\', camera_name, vehicle_name, external)\\n        if (result == \"\" or result == \"\\\\0\"):\\n            return None\\n        return result\\n\\ndef simGetLensSettings(self, camera_name, vehicle_name = \\'\\', external = False):  \\n        result = self.client.call(\\'simGetLensSettings\\', camera_name, vehicle_name, external)\\n        if (result == \"\" or result == \"\\\\0\"):\\n            return None\\n        return result\\n\\ndef simSetPresetLensSettings(self, preset_lens_settings, camera_name, vehicle_name = \\'\\', external = False):  \\n        self.client.call(\"simSetPresetLensSettings\", preset_lens_settings, camera_name, vehicle_name, external)'),\n",
       " Document(id='4c253b59-5eda-4572-ae51-dd130f4b9971', metadata={'chunk_type': 'code_group', 'name': 'isApiControlEnabled', 'source': 'Data/client.py'}, page_content='def isApiControlEnabled(self, vehicle_name = \\'\\'):\\n        \"\"\"\\n        Returns true if API control is established.\\n\\n        If false (which is default) then API calls would be ignored. After a successful call to `enableApiControl`, `isApiControlEnabled` should return true.\\n\\n        Args:\\n            vehicle_name (str, optional): Name of the vehicle\\n\\n        Returns:\\n            bool: If API control is enabled\\n        \"\"\"\\n        return self.client.call(\\'isApiControlEnabled\\', vehicle_name)\\n\\ndef armDisarm(self, arm, vehicle_name = \\'\\'):\\n        \"\"\"\\n        Arms or disarms vehicle\\n\\n        Args:\\n            arm (bool): True to arm, False to disarm the vehicle\\n            vehicle_name (str, optional): Name of the vehicle to send this command to\\n\\n        Returns:\\n            bool: Success\\n        \"\"\"\\n        return self.client.call(\\'armDisarm\\', arm, vehicle_name)\\n\\ndef simPause(self, is_paused):\\n        \"\"\"\\n        Pauses simulation\\n\\n        Args:\\n            is_paused (bool): True to pause the simulation, False to release\\n        \"\"\"\\n        self.client.call(\\'simPause\\', is_paused)\\n\\ndef simIsPause(self):\\n        \"\"\"\\n        Returns true if the simulation is paused\\n\\n        Returns:\\n            bool: If the simulation is paused\\n        \"\"\"\\n        return self.client.call(\"simIsPaused\")'),\n",
       " Document(metadata={'source': 'Data/client.py'}, page_content='from __future__ import print_function\\n\\nfrom .utils import *\\nfrom .types import *\\n\\nimport msgpackrpc #install as admin: pip install msgpack-rpc-python\\nimport numpy as np #pip install numpy\\nimport msgpack\\nimport time\\nimport math\\nimport logging\\n\\nclass VehicleClient:\\n    def __init__(self, ip = \"\", port = 41451, timeout_value = 3600):\\n        if (ip == \"\"):\\n            ip = \"127.0.0.1\"\\n        self.client = msgpackrpc.Client(msgpackrpc.Address(ip, port), timeout = timeout_value, pack_encoding = \\'utf-8\\', unpack_encoding = \\'utf-8\\')\\n\\n#----------------------------------- Common vehicle APIs ---------------------------------------------\\n    def reset(self):\\n        \"\"\"\\n        Reset the vehicle to its original starting state\\n\\n        Note that you must call `enableApiControl` and `armDisarm` again after the call to reset\\n        \"\"\"\\n        self.client.call(\\'reset\\')\\n\\n    def ping(self):\\n        \"\"\"\\n        If connection is established then this call will return true otherwise it will be blocked until timeout\\n\\n        Returns:\\n            bool:\\n        \"\"\"\\n        return self.client.call(\\'ping\\')\\n\\n    def getClientVersion(self):\\n        return 1 # sync with C++ client\\n\\n    def getServerVersion(self):\\n        return self.client.call(\\'getServerVersion\\')\\n\\n    def getMinRequiredServerVersion(self):\\n        return 1 # sync with C++ client\\n\\n    def getMinRequiredClientVersion(self):\\n        return self.client.call(\\'getMinRequiredClientVersion\\')\\n\\n#basic flight control\\n    def enableApiControl(self, is_enabled, vehicle_name = \\'\\'):\\n        \"\"\"\\n        Enables or disables API control for vehicle corresponding to vehicle_name\\n\\n        Args:\\n            is_enabled (bool): True to enable, False to disable API control\\n            vehicle_name (str, optional): Name of the vehicle to send this command to\\n        \"\"\"\\n        self.client.call(\\'enableApiControl\\', is_enabled, vehicle_name)\\n\\n    def isApiControlEnabled(self, vehicle_name = \\'\\'):\\n        \"\"\"\\n        Returns true if API control is established.\\n\\n        If false (which is default) then API calls would be ignored. After a successful call to `enableApiControl`, `isApiControlEnabled` should return true.\\n\\n        Args:\\n            vehicle_name (str, optional): Name of the vehicle\\n\\n        Returns:\\n            bool: If API control is enabled\\n        \"\"\"\\n        return self.client.call(\\'isApiControlEnabled\\', vehicle_name)\\n\\n    def armDisarm(self, arm, vehicle_name = \\'\\'):\\n        \"\"\"\\n        Arms or disarms vehicle\\n\\n        Args:\\n            arm (bool): True to arm, False to disarm the vehicle\\n            vehicle_name (str, optional): Name of the vehicle to send this command to\\n\\n        Returns:\\n            bool: Success\\n        \"\"\"\\n        return self.client.call(\\'armDisarm\\', arm, vehicle_name)\\n\\n    def simPause(self, is_paused):\\n        \"\"\"\\n        Pauses simulation\\n\\n        Args:\\n            is_paused (bool): True to pause the simulation, False to release\\n        \"\"\"\\n        self.client.call(\\'simPause\\', is_paused)\\n\\n    def simIsPause(self):\\n        \"\"\"\\n        Returns true if the simulation is paused\\n\\n        Returns:\\n            bool: If the simulation is paused\\n        \"\"\"\\n        return self.client.call(\"simIsPaused\")\\n\\n    def simContinueForTime(self, seconds):\\n        \"\"\"\\n        Continue the simulation for the specified number of seconds\\n\\n        Args:\\n            seconds (float): Time to run the simulation for\\n        \"\"\"\\n        self.client.call(\\'simContinueForTime\\', seconds)\\n\\n    def simContinueForFrames(self, frames):\\n        \"\"\"\\n        Continue (or resume if paused) the simulation for the specified number of frames, after which the simulation will be paused.\\n\\n        Args:\\n            frames (int): Frames to run the simulation for\\n        \"\"\"\\n        self.client.call(\\'simContinueForFrames\\', frames)\\n\\n    def getHomeGeoPoint(self, vehicle_name = \\'\\'):\\n        \"\"\"\\n        Get the Home location of the vehicle\\n\\n        Args:\\n            vehicle_name (str, optional): Name of vehicle to get home location of\\n\\n        Returns:\\n            GeoPoint: Home location of the vehicle\\n        \"\"\"\\n        return GeoPoint.from_msgpack(self.client.call(\\'getHomeGeoPoint\\', vehicle_name))\\n\\n    def confirmConnection(self):\\n        \"\"\"\\n        Checks state of connection every 1 sec and reports it in Console so user can see the progress for connection.\\n        \"\"\"\\n        if self.ping():\\n            print(\"Connected!\")\\n        else:\\n             print(\"Ping returned false!\")\\n        server_ver = self.getServerVersion()\\n        client_ver = self.getClientVersion()\\n        server_min_ver = self.getMinRequiredServerVersion()\\n        client_min_ver = self.getMinRequiredClientVersion()\\n\\n        ver_info = \"Client Ver:\" + str(client_ver) + \" (Min Req: \" + str(client_min_ver) + \\\\\\n              \"), Server Ver:\" + str(server_ver) + \" (Min Req: \" + str(server_min_ver) + \")\"\\n\\n        if server_ver < server_min_ver:\\n            print(ver_info, file=sys.stderr)\\n            print(\"AirSim server is of older version and not supported by this client. Please upgrade!\")\\n        elif client_ver < client_min_ver:\\n            print(ver_info, file=sys.stderr)\\n            print(\"AirSim client is of older version and not supported by this server. Please upgrade!\")\\n        else:\\n            print(ver_info)\\n        print(\\'\\')\\n\\n    def simSetLightIntensity(self, light_name, intensity):\\n        \"\"\"\\n        Change intensity of named light\\n\\n        Args:\\n            light_name (str): Name of light to change\\n            intensity (float): New intensity value\\n\\n        Returns:\\n            bool: True if successful, otherwise False\\n        \"\"\"\\n        return self.client.call(\"simSetLightIntensity\", light_name, intensity)\\n\\n    def simSwapTextures(self, tags, tex_id = 0, component_id = 0, material_id = 0):\\n        \"\"\"\\n        Runtime Swap Texture API\\n\\n        See https://microsoft.github.io/AirSim/retexturing/ for details\\n\\n        Args:\\n            tags (str): string of \",\" or \", \" delimited tags to identify on which actors to perform the swap\\n            tex_id (int, optional): indexes the array of textures assigned to each actor undergoing a swap\\n\\n                                    If out-of-bounds for some object\\'s texture set, it will be taken modulo the number of textures that were available\\n            component_id (int, optional):\\n            material_id (int, optional):\\n\\n        Returns:\\n            list[str]: List of objects which matched the provided tags and had the texture swap perfomed\\n        \"\"\"\\n        return self.client.call(\"simSwapTextures\", tags, tex_id, component_id, material_id)\\n\\n    def simSetObjectMaterial(self, object_name, material_name, component_id = 0):\\n        \"\"\"\\n        Runtime Swap Texture API\\n        See https://microsoft.github.io/AirSim/retexturing/ for details\\n        Args:\\n            object_name (str): name of object to set material for\\n            material_name (str): name of material to set for object\\n            component_id (int, optional) : index of material elements\\n\\n        Returns:\\n            bool: True if material was set\\n        \"\"\"\\n        return self.client.call(\"simSetObjectMaterial\", object_name, material_name, component_id)\\n\\n    def simSetObjectMaterialFromTexture(self, object_name, texture_path, component_id = 0):\\n        \"\"\"\\n        Runtime Swap Texture API\\n        See https://microsoft.github.io/AirSim/retexturing/ for details\\n        Args:\\n            object_name (str): name of object to set material for\\n            texture_path (str): path to texture to set for object\\n            component_id (int, optional) : index of material elements\\n\\n        Returns:\\n            bool: True if material was set\\n        \"\"\"\\n        return self.client.call(\"simSetObjectMaterialFromTexture\", object_name, texture_path, component_id)\\n\\n#camera control\\n#simGetImage returns compressed png in array of bytes\\n#image_type uses one of the ImageType members\\n    def simGetImage(self, camera_name, image_type, vehicle_name = \\'\\', external = False):\\n        \"\"\"\\n        Get a single image\\n\\n        Returns bytes of png format image which can be dumped into abinary file to create .png image\\n        `string_to_uint8_array()` can be used to convert into Numpy unit8 array\\n        See https://microsoft.github.io/AirSim/image_apis/ for details\\n\\n        Args:\\n            camera_name (str): Name of the camera, for backwards compatibility, ID numbers such as 0,1,etc. can also be used\\n            image_type (ImageType): Type of image required\\n            vehicle_name (str, optional): Name of the vehicle with the camera\\n            external (bool, optional): Whether the camera is an External Camera\\n\\n        Returns:\\n            Binary string literal of compressed png image\\n        \"\"\"\\n#todo : in future remove below, it\\'s only for compatibility to pre v1.2\\n        camera_name = str(camera_name)\\n\\n#because this method returns std::vector < uint8>, msgpack decides to encode it as a string unfortunately.\\n        result = self.client.call(\\'simGetImage\\', camera_name, image_type, vehicle_name, external)\\n        if (result == \"\" or result == \"\\\\0\"):\\n            return None\\n        return result\\n\\n#camera control\\n#simGetImage returns compressed png in array of bytes\\n#image_type uses one of the ImageType members\\n    def simGetImages(self, requests, vehicle_name = \\'\\', external = False):\\n        \"\"\"\\n        Get multiple images\\n\\n        See https://microsoft.github.io/AirSim/image_apis/ for details and examples\\n\\n        Args:\\n            requests (list[ImageRequest]): Images required\\n            vehicle_name (str, optional): Name of vehicle associated with the camera\\n            external (bool, optional): Whether the camera is an External Camera\\n\\n        Returns:\\n            list[ImageResponse]:\\n        \"\"\"\\n        responses_raw = self.client.call(\\'simGetImages\\', requests, vehicle_name, external)\\n        return [ImageResponse.from_msgpack(response_raw) for response_raw in responses_raw]\\n\\n\\n\\n#CinemAirSim\\n    def simGetPresetLensSettings(self, camera_name, vehicle_name = \\'\\', external = False):  \\n        result = self.client.call(\\'simGetPresetLensSettings\\', camera_name, vehicle_name, external)\\n        if (result == \"\" or result == \"\\\\0\"):\\n            return None\\n        return result\\n\\n    def simGetLensSettings(self, camera_name, vehicle_name = \\'\\', external = False):  \\n        result = self.client.call(\\'simGetLensSettings\\', camera_name, vehicle_name, external)\\n        if (result == \"\" or result == \"\\\\0\"):\\n            return None\\n        return result\\n\\n    def simSetPresetLensSettings(self, preset_lens_settings, camera_name, vehicle_name = \\'\\', external = False):  \\n        self.client.call(\"simSetPresetLensSettings\", preset_lens_settings, camera_name, vehicle_name, external)\\n\\n    def simGetPresetFilmbackSettings(self, camera_name, vehicle_name = \\'\\', external = False):  \\n        result = self.client.call(\\'simGetPresetFilmbackSettings\\', camera_name, vehicle_name, external)\\n        if (result == \"\" or result == \"\\\\0\"):\\n            return None\\n        return result\\n\\n    def simSetPresetFilmbackSettings(self, preset_filmback_settings, camera_name, vehicle_name = \\'\\', external = False):  \\n        self.client.call(\"simSetPresetFilmbackSettings\", preset_filmback_settings, camera_name, vehicle_name, external)\\n\\n    def simGetFilmbackSettings(self, camera_name, vehicle_name = \\'\\', external = False):  \\n        result = self.client.call(\\'simGetFilmbackSettings\\', camera_name, vehicle_name, external)\\n        if (result == \"\" or result == \"\\\\0\"):\\n            return None\\n        return result\\n\\n    def simSetFilmbackSettings(self, sensor_width, sensor_height, camera_name, vehicle_name = \\'\\', external = False):  \\n        return self.client.call(\"simSetFilmbackSettings\", sensor_width, sensor_height, camera_name, vehicle_name, external)\\n\\n    def simGetFocalLength(self, camera_name, vehicle_name = \\'\\', external = False):  \\n        return self.client.call(\"simGetFocalLength\", camera_name, vehicle_name, external)\\n\\n    def simSetFocalLength(self, focal_length, camera_name, vehicle_name = \\'\\', external = False):  \\n        self.client.call(\"simSetFocalLength\", focal_length, camera_name, vehicle_name, external)\\n\\n    def simEnableManualFocus(self, enable, camera_name, vehicle_name = \\'\\', external = False):  \\n        self.client.call(\"simEnableManualFocus\", enable, camera_name, vehicle_name, external)\\n\\n    def simGetFocusDistance(self, camera_name, vehicle_name = \\'\\', external = False):  \\n        return self.client.call(\"simGetFocusDistance\", camera_name, vehicle_name, external)\\n\\n    def simSetFocusDistance(self, focus_distance, camera_name, vehicle_name = \\'\\', external = False):  \\n        self.client.call(\"simSetFocusDistance\", focus_distance, camera_name, vehicle_name, external)\\n\\n    def simGetFocusAperture(self, camera_name, vehicle_name = \\'\\', external = False):  \\n        return self.client.call(\"simGetFocusAperture\", camera_name, vehicle_name, external)\\n\\n    def simSetFocusAperture(self, focus_aperture, camera_name, vehicle_name = \\'\\', external = False):  \\n        self.client.call(\"simSetFocusAperture\", focus_aperture, camera_name, vehicle_name, external)\\n\\n    def simEnableFocusPlane(self, enable, camera_name, vehicle_name = \\'\\', external = False):  \\n        self.client.call(\"simEnableFocusPlane\", enable, camera_name, vehicle_name, external)\\n\\n    def simGetCurrentFieldOfView(self, camera_name, vehicle_name = \\'\\', external = False):  \\n        return self.client.call(\"simGetCurrentFieldOfView\", camera_name, vehicle_name, external)\\n\\n#End CinemAirSim     \\n    def simTestLineOfSightToPoint(self, point, vehicle_name = \\'\\'):\\n        \"\"\"\\n        Returns whether the target point is visible from the perspective of the inputted vehicle\\n\\n        Args:\\n            point (GeoPoint): target point\\n            vehicle_name (str, optional): Name of vehicle\\n\\n        Returns:\\n            [bool]: Success\\n        \"\"\"\\n        return self.client.call(\\'simTestLineOfSightToPoint\\', point, vehicle_name)\\n\\n    def simTestLineOfSightBetweenPoints(self, point1, point2):\\n        \"\"\"\\n        Returns whether the target point is visible from the perspective of the source point\\n\\n        Args:\\n            point1 (GeoPoint): source point\\n            point2 (GeoPoint): target point\\n\\n        Returns:\\n            [bool]: Success\\n        \"\"\"\\n        return self.client.call(\\'simTestLineOfSightBetweenPoints\\', point1, point2)\\n\\n    def simGetWorldExtents(self):\\n        \"\"\"\\n        Returns a list of GeoPoints representing the minimum and maximum extents of the world\\n\\n        Returns:\\n            list[GeoPoint]\\n        \"\"\"\\n        responses_raw = self.client.call(\\'simGetWorldExtents\\')\\n        return [GeoPoint.from_msgpack(response_raw) for response_raw in responses_raw]\\n\\n    def simRunConsoleCommand(self, command):\\n        \"\"\"\\n        Allows the client to execute a command in Unreal\\'s native console, via an API.\\n        Affords access to the countless built-in commands such as \"stat unit\", \"stat fps\", \"open [map]\", adjust any config settings, etc. etc.\\n        Allows the user to create bespoke APIs very easily, by adding a custom event to the level blueprint, and then calling the console command \"ce MyEventName [args]\". No recompilation of AirSim needed!\\n\\n        Args:\\n            command ([string]): Desired Unreal Engine Console command to run\\n\\n        Returns:\\n            [bool]: Success\\n        \"\"\"\\n        return self.client.call(\\'simRunConsoleCommand\\', command)\\n\\n\\n#Recording APIs\\n    def startRecording(self):\\n        \"\"\"\\n        Start Recording\\n\\n        Recording will be done according to the settings\\n        \"\"\"\\n        self.client.call(\\'startRecording\\')\\n\\n    def stopRecording(self):\\n        \"\"\"\\n        Stop Recording\\n        \"\"\"\\n        self.client.call(\\'stopRecording\\')\\n\\n    def isRecording(self):\\n        \"\"\"\\n        Whether Recording is running or not\\n\\n        Returns:\\n            bool: True if Recording, else False\\n        \"\"\"\\n        return self.client.call(\\'isRecording\\')\\n\\n    def simSetWind(self, wind):\\n        \"\"\"\\n        Set simulated wind, in World frame, NED direction, m/s\\n\\n        Args:\\n            wind (Vector3r): Wind, in World frame, NED direction, in m/s\\n        \"\"\"\\n        self.client.call(\\'simSetWind\\', wind)\\n\\n    def simCreateVoxelGrid(self, position, x, y, z, res, of):\\n        \"\"\"\\n        Construct and save a binvox-formatted voxel grid of environment\\n\\n        Args:\\n            position (Vector3r): Position around which voxel grid is centered in m\\n            x, y, z (int): Size of each voxel grid dimension in m\\n            res (float): Resolution of voxel grid in m\\n            of (str): Name of output file to save voxel grid as\\n\\n        Returns:\\n            bool: True if output written to file successfully, else False\\n        \"\"\"\\n        return self.client.call(\\'simCreateVoxelGrid\\', position, x, y, z, res, of)\\n\\n#----------------------------------- Multirotor APIs ---------------------------------------------\\nclass MultirotorClient(VehicleClient, object):\\n    def __init__(self, ip = \"\", port = 41451, timeout_value = 3600):\\n        super(MultirotorClient, self).__init__(ip, port, timeout_value)\\n\\n    def takeoffAsync(self, timeout_sec = 20, vehicle_name = \\'\\'):\\n        \"\"\"\\n        Takeoff vehicle to 3m above ground. Vehicle should not be moving when this API is used\\n\\n        Args:\\n            timeout_sec (int, optional): Timeout for the vehicle to reach desired altitude\\n            vehicle_name (str, optional): Name of the vehicle to send this command to\\n\\n        Returns:\\n            msgpackrpc.future.Future: future. call .join() to wait for method to finish. Example: client.METHOD().join()\\n        \"\"\"\\n        return self.client.call_async(\\'takeoff\\', timeout_sec, vehicle_name)\\n\\n    def landAsync(self, timeout_sec = 60, vehicle_name = \\'\\'):\\n        \"\"\"\\n        Land the vehicle\\n\\n        Args:\\n            timeout_sec (int, optional): Timeout for the vehicle to land\\n            vehicle_name (str, optional): Name of the vehicle to send this command to\\n\\n        Returns:\\n            msgpackrpc.future.Future: future. call .join() to wait for method to finish. Example: client.METHOD().join()\\n        \"\"\"\\n        return self.client.call_async(\\'land\\', timeout_sec, vehicle_name)\\n\\n    def goHomeAsync(self, timeout_sec = 3e+38, vehicle_name = \\'\\'):\\n        \"\"\"\\n        Return vehicle to Home i.e. Launch location\\n\\n        Args:\\n            timeout_sec (int, optional): Timeout for the vehicle to reach desired altitude\\n            vehicle_name (str, optional): Name of the vehicle to send this command to\\n\\n        Returns:\\n            msgpackrpc.future.Future: future. call .join() to wait for method to finish. Example: client.METHOD().join()\\n        \"\"\"\\n        return self.client.call_async(\\'goHome\\', timeout_sec, vehicle_name)\\n\\n#APIs for control\\n    def moveByVelocityBodyFrameAsync(self, vx, vy, vz, duration, drivetrain = DrivetrainType.MaxDegreeOfFreedom, yaw_mode = YawMode(), vehicle_name = \\'\\'):\\n        \"\"\"\\n        Args:\\n            vx (float): desired velocity in the X axis of the vehicle\\'s local NED frame.\\n            vy (float): desired velocity in the Y axis of the vehicle\\'s local NED frame.\\n            vz (float): desired velocity in the Z axis of the vehicle\\'s local NED frame.\\n            duration (float): Desired amount of time (seconds), to send this command for\\n            drivetrain (DrivetrainType, optional):\\n            yaw_mode (YawMode, optional):\\n            vehicle_name (str, optional): Name of the multirotor to send this command to\\n\\n        Returns:\\n            msgpackrpc.future.Future: future. call .join() to wait for method to finish. Example: client.METHOD().join()\\n        \"\"\"\\n        return self.client.call_async(\\'moveByVelocityBodyFrame\\', vx, vy, vz, duration, drivetrain, yaw_mode, vehicle_name)\\n\\n    def moveByVelocityZBodyFrameAsync(self, vx, vy, z, duration, drivetrain = DrivetrainType.MaxDegreeOfFreedom, yaw_mode = YawMode(), vehicle_name = \\'\\'):\\n        \"\"\"\\n        Args:\\n            vx (float): desired velocity in the X axis of the vehicle\\'s local NED frame\\n            vy (float): desired velocity in the Y axis of the vehicle\\'s local NED frame\\n            z (float): desired Z value (in local NED frame of the vehicle)\\n            duration (float): Desired amount of time (seconds), to send this command for\\n            drivetrain (DrivetrainType, optional):\\n            yaw_mode (YawMode, optional):\\n            vehicle_name (str, optional): Name of the multirotor to send this command to\\n\\n        Returns:\\n            msgpackrpc.future.Future: future. call .join() to wait for method to finish. Example: client.METHOD().join()\\n        \"\"\"\\n\\n        return self.client.call_async(\\'moveByVelocityZBodyFrame\\', vx, vy, z, duration, drivetrain, yaw_mode, vehicle_name)\\n\\n    def moveByAngleZAsync(self, pitch, roll, z, yaw, duration, vehicle_name = \\'\\'):\\n        logging.warning(\"moveByAngleZAsync API is deprecated, use moveByRollPitchYawZAsync() API instead\")\\n        return self.client.call_async(\\'moveByRollPitchYawZ\\', roll, -pitch, -yaw, z, duration, vehicle_name)\\n\\n    def moveByAngleThrottleAsync(self, pitch, roll, throttle, yaw_rate, duration, vehicle_name = \\'\\'):\\n        logging.warning(\"moveByAngleThrottleAsync API is deprecated, use moveByRollPitchYawrateThrottleAsync() API instead\")\\n        return self.client.call_async(\\'moveByRollPitchYawrateThrottle\\', roll, -pitch, -yaw_rate, throttle, duration, vehicle_name)\\n\\n    def moveByVelocityAsync(self, vx, vy, vz, duration, drivetrain = DrivetrainType.MaxDegreeOfFreedom, yaw_mode = YawMode(), vehicle_name = \\'\\'):\\n        \"\"\"\\n        Args:\\n            vx (float): desired velocity in world (NED) X axis\\n            vy (float): desired velocity in world (NED) Y axis\\n            vz (float): desired velocity in world (NED) Z axis\\n            duration (float): Desired amount of time (seconds), to send this command for\\n            drivetrain (DrivetrainType, optional):\\n            yaw_mode (YawMode, optional):\\n            vehicle_name (str, optional): Name of the multirotor to send this command to\\n\\n        Returns:\\n            msgpackrpc.future.Future: future. call .join() to wait for method to finish. Example: client.METHOD().join()\\n        \"\"\"\\n        return self.client.call_async(\\'moveByVelocity\\', vx, vy, vz, duration, drivetrain, yaw_mode, vehicle_name)\\n\\n    def moveByVelocityZAsync(self, vx, vy, z, duration, drivetrain = DrivetrainType.MaxDegreeOfFreedom, yaw_mode = YawMode(), vehicle_name = \\'\\'):\\n        return self.client.call_async(\\'moveByVelocityZ\\', vx, vy, z, duration, drivetrain, yaw_mode, vehicle_name)\\n\\n    def moveOnPathAsync(self, path, velocity, timeout_sec = 3e+38, drivetrain = DrivetrainType.MaxDegreeOfFreedom, yaw_mode = YawMode(),\\n        lookahead = -1, adaptive_lookahead = 1, vehicle_name = \\'\\'):\\n        return self.client.call_async(\\'moveOnPath\\', path, velocity, timeout_sec, drivetrain, yaw_mode, lookahead, adaptive_lookahead, vehicle_name)\\n\\n    def moveToPositionAsync(self, x, y, z, velocity, timeout_sec = 3e+38, drivetrain = DrivetrainType.MaxDegreeOfFreedom, yaw_mode = YawMode(),\\n        lookahead = -1, adaptive_lookahead = 1, vehicle_name = \\'\\'):\\n        return self.client.call_async(\\'moveToPosition\\', x, y, z, velocity, timeout_sec, drivetrain, yaw_mode, lookahead, adaptive_lookahead, vehicle_name)\\n\\n    def moveToGPSAsync(self, latitude, longitude, altitude, velocity, timeout_sec = 3e+38, drivetrain = DrivetrainType.MaxDegreeOfFreedom, yaw_mode = YawMode(),\\n        lookahead = -1, adaptive_lookahead = 1, vehicle_name = \\'\\'):\\n        return self.client.call_async(\\'moveToGPS\\', latitude, longitude, altitude, velocity, timeout_sec, drivetrain, yaw_mode, lookahead, adaptive_lookahead, vehicle_name)\\n\\n    def moveToZAsync(self, z, velocity, timeout_sec = 3e+38, yaw_mode = YawMode(), lookahead = -1, adaptive_lookahead = 1, vehicle_name = \\'\\'):\\n        return self.client.call_async(\\'moveToZ\\', z, velocity, timeout_sec, yaw_mode, lookahead, adaptive_lookahead, vehicle_name)\\n\\n    def moveByManualAsync(self, vx_max, vy_max, z_min, duration, drivetrain = DrivetrainType.MaxDegreeOfFreedom, yaw_mode = YawMode(), vehicle_name = \\'\\'):\\n        \"\"\"\\n        - Read current RC state and use it to control the vehicles.\\n\\n        Parameters sets up the constraints on velocity and minimum altitude while flying. If RC state is detected to violate these constraints\\n        then that RC state would be ignored.\\n\\n        Args:\\n            vx_max (float): max velocity allowed in x direction\\n            vy_max (float): max velocity allowed in y direction\\n            vz_max (float): max velocity allowed in z direction\\n            z_min (float): min z allowed for vehicle position\\n            duration (float): after this duration vehicle would switch back to non-manual mode\\n            drivetrain (DrivetrainType): when ForwardOnly, vehicle rotates itself so that its front is always facing the direction of travel. If MaxDegreeOfFreedom then it doesn\\'t do that (crab-like movement)\\n            yaw_mode (YawMode): Specifies if vehicle should face at given angle (is_rate=False) or should be rotating around its axis at given rate (is_rate=True)\\n            vehicle_name (str, optional): Name of the multirotor to send this command to\\n        Returns:\\n            msgpackrpc.future.Future: future. call .join() to wait for method to finish. Example: client.METHOD().join()\\n        \"\"\"\\n        return self.client.call_async(\\'moveByManual\\', vx_max, vy_max, z_min, duration, drivetrain, yaw_mode, vehicle_name)\\n\\n    def rotateToYawAsync(self, yaw, timeout_sec = 3e+38, margin = 5, vehicle_name = \\'\\'):\\n        return self.client.call_async(\\'rotateToYaw\\', yaw, timeout_sec, margin, vehicle_name)\\n\\n    def rotateByYawRateAsync(self, yaw_rate, duration, vehicle_name = \\'\\'):\\n        return self.client.call_async(\\'rotateByYawRate\\', yaw_rate, duration, vehicle_name)\\n\\n    def hoverAsync(self, vehicle_name = \\'\\'):\\n        return self.client.call_async(\\'hover\\', vehicle_name)\\n\\n    def moveByRC(self, rcdata = RCData(), vehicle_name = \\'\\'):\\n        return self.client.call(\\'moveByRC\\', rcdata, vehicle_name)\\n\\n#query vehicle state\\n    def getMultirotorState(self, vehicle_name = \\'\\'):\\n        \"\"\"\\n        The position inside the returned MultirotorState is in the frame of the vehicle\\'s starting point\\n\\n        Args:\\n            vehicle_name (str, optional): Vehicle to get the state of\\n\\n        Returns:\\n            MultirotorState:\\n        \"\"\"\\n        return MultirotorState.from_msgpack(self.client.call(\\'getMultirotorState\\', vehicle_name))\\n    getMultirotorState.__annotations__ = {\\'return\\': MultirotorState}\\n#query rotor states\\n    def getRotorStates(self, vehicle_name = \\'\\'):\\n        \"\"\"\\n        Used to obtain the current state of all a multirotor\\'s rotors. The state includes the speeds,\\n        thrusts and torques for all rotors.\\n\\n        Args:\\n            vehicle_name (str, optional): Vehicle to get the rotor state of\\n\\n        Returns:\\n            RotorStates: Containing a timestamp and the speed, thrust and torque of all rotors.\\n        \"\"\"\\n        return RotorStates.from_msgpack(self.client.call(\\'getRotorStates\\', vehicle_name))\\n    getRotorStates.__annotations__ = {\\'return\\': RotorStates}')]"
      ]
     },
     "execution_count": 144,
     "metadata": {},
     "output_type": "execute_result"
    }
   ],
   "source": [
    "retrieved_docs"
   ]
  },
  {
   "cell_type": "code",
   "execution_count": 42,
   "id": "bde6a78f",
   "metadata": {},
   "outputs": [
    {
     "name": "stdout",
     "output_type": "stream",
     "text": [
      "def moveByRC(self, rcdata = RCData(), vehicle_name = ''):\n",
      "        return self.client.call('moveByRC', rcdata, vehicle_name)\n",
      "\n",
      "#low - level control API\n",
      "    def moveByMotorPWMsAsync(self, front_right_pwm, rear_left_pwm, front_left_pwm, rear_right_pwm, duration, vehicle_name = ''):\n",
      "        \"\"\"\n",
      "        - Directly control the motors using PWM values\n",
      "Returns:\n",
      "            msgpackrpc.future.Future: future. call .join() to wait for method to finish. Example: client.METHOD().join()\n",
      "        \"\"\"\n",
      "        return self.client.call_async('moveByAngleRatesZ', roll_rate, -pitch_rate, -yaw_rate, z, duration, vehicle_name)\n",
      "- This function should only be called if the default angle rate control PID gains need to be modified.\n",
      "Returns:\n",
      "            msgpackrpc.future.Future: future. call .join() to wait for method to finish. Example: client.METHOD().join()\n",
      "        \"\"\"\n",
      "        return self.client.call_async('moveByRollPitchYawrateZ', roll, -pitch, -yaw_rate, z, duration, vehicle_name)\n",
      "Returns:\n",
      "            msgpackrpc.future.Future: future. call .join() to wait for method to finish. Example: client.METHOD().join()\n",
      "        \"\"\"\n",
      "        return self.client.call_async('moveByVelocity', vx, vy, vz, duration, drivetrain, yaw_mode, vehicle_name)\n",
      "Returns:\n",
      "            msgpackrpc.future.Future: future. call .join() to wait for method to finish. Example: client.METHOD().join()\n",
      "        \"\"\"\n",
      "        return self.client.call_async('moveByManual', vx_max, vy_max, z_min, duration, drivetrain, yaw_mode, vehicle_name)\n",
      "Returns:\n",
      "            msgpackrpc.future.Future: future. call .join() to wait for method to finish. Example: client.METHOD().join()\n",
      "        \"\"\"\n",
      "        return self.client.call_async('moveByVelocityBodyFrame', vx, vy, vz, duration, drivetrain, yaw_mode, vehicle_name)\n",
      "Returns:\n",
      "            msgpackrpc.future.Future: future. call .join() to wait for method to finish. Example: client.METHOD().join()\n",
      "        \"\"\"\n",
      "        return self.client.call_async('goHome', timeout_sec, vehicle_name)\n",
      "vehicle_name (str, optional): Name of the multirotor to send this command to\n",
      "        \"\"\"\n",
      "        self.client.call('setVelocityControllerGains', *(velocity_gains.to_lists()+(vehicle_name,)))\n",
      "Returns:\n",
      "            msgpackrpc.future.Future: future. call .join() to wait for method to finish. Example: client.METHOD().join()\n",
      "        \"\"\"\n",
      "        return self.client.call_async('moveByRollPitchYawZ', roll, -pitch, -yaw, z, duration, vehicle_name)\n",
      "Returns:\n",
      "            msgpackrpc.future.Future: future. call .join() to wait for method to finish. Example: client.METHOD().join()\n",
      "        \"\"\"\n",
      "\n",
      "        return self.client.call_async('moveByVelocityZBodyFrame', vx, vy, z, duration, drivetrain, yaw_mode, vehicle_name)\n",
      "def setPositionControllerGains(self, position_gains=PositionControllerGains(), vehicle_name = ''):\n",
      "        \"\"\"\n",
      "        Sets position controller gains for moveByPositionAsync.\n",
      "        This function should only be called if the default position control PID gains need to be modified.\n",
      "Returns:\n",
      "            msgpackrpc.future.Future: future. call .join() to wait for method to finish. Example: client.METHOD().join()\n",
      "        \"\"\"\n",
      "        return self.client.call_async('moveByRollPitchYawThrottle', roll, -pitch, -yaw, throttle, duration, vehicle_name)\n",
      "vehicle_name (str, optional): Name of the multirotor to send this command to\n",
      "        Returns:\n",
      "            msgpackrpc.future.Future: future. call .join() to wait for method to finish. Example: client.METHOD().join()\n",
      "        \"\"\"\n",
      "        return self.client.call_async('moveByMotorPWMs', front_right_pwm, rear_left_pwm, front_left_pwm, rear_right_pwm, duration, vehicle_name)\n",
      "Returns:\n",
      "            msgpackrpc.future.Future: future. call .join() to wait for method to finish. Example: client.METHOD().join()\n",
      "        \"\"\"\n",
      "        return self.client.call_async('moveByAngleRatesThrottle', roll_rate, -pitch_rate, -yaw_rate, throttle, duration, vehicle_name)\n",
      "\n"
     ]
    }
   ],
   "source": [
    "retrieved_docs[0].page_content\n",
    "\n",
    "def get_context(retrieved_docs):\n",
    "    context = \"\"\n",
    "    for doc in retrieved_docs:\n",
    "        context += doc.page_content + \"\\n\"\n",
    "    return context\n",
    "\n",
    "s = get_context(retrieved_docs)\n",
    "print(s)\n"
   ]
  },
  {
   "cell_type": "code",
   "execution_count": 82,
   "id": "230d0a11",
   "metadata": {},
   "outputs": [],
   "source": [
    "GEMINI_API_KEY=os.environ.get('GEMINI_API_KEY')\n",
    "os.environ[\"GEMINI_API_KEY\"] = GEMINI_API_KEY"
   ]
  },
  {
   "cell_type": "code",
   "execution_count": 96,
   "id": "499fd7f7",
   "metadata": {},
   "outputs": [],
   "source": [
    "from langchain_google_genai import ChatGoogleGenerativeAI\n",
    "\n",
    "llm = ChatGoogleGenerativeAI(\n",
    "    model=\"gemini-2.0-flash-lite\",\n",
    "    google_api_key=GEMINI_API_KEY,\n",
    "    temperature=0.2,\n",
    "    max_output_tokens=2048\n",
    ")"
   ]
  },
  {
   "cell_type": "code",
   "execution_count": 97,
   "id": "1f6b8e15",
   "metadata": {},
   "outputs": [],
   "source": [
    "from langchain.chains import create_retrieval_chain\n",
    "from langchain.chains.combine_documents import create_stuff_documents_chain\n",
    "from langchain_core.prompts import ChatPromptTemplate\n",
    "\n",
    "system_prompt = (\n",
    "    \"You are a mission planner for an autonomous drone. \"\n",
    "    \"Your task is to generate executable mission scripts in Python \"\n",
    "    \"using only the provided drone actions. \"\n",
    "    \"Always follow this template:\\n\\n\"\n",
    "    \"from drone_actions import ...\\n\\n\"\n",
    "    \"objects_list = [....]\\n\\n\"\n",
    "    \"def mission():\\n\"\n",
    "    \"    # Step 0: ...\\n\"\n",
    "    \"    ...\\n\"\n",
    "    \"    # Step 1: ...\\n\"\n",
    "    \"   ...\\n\"\n",
    "    \"    # Final step: ...\\n\"\n",
    "    \"    ...\\n\"\n",
    "    \"    ...\\n\\n\"\n",
    "    \"Constraints:\\n\"\n",
    "    \"- Use ONLY the available primitives.\\n\"\n",
    "    \"- Always structure code with numbered comments (# Step 1, # Step 2,...).\\n\"\n",
    "    \"- If mission is unclear, still generate a skeleton with TODO comments.\\n\\n\"\n",
    "    \"{context}\"\n",
    ")\n",
    "\n",
    "\n",
    "prompt = ChatPromptTemplate.from_messages(\n",
    "    [\n",
    "        (\"system\", system_prompt),\n",
    "        (\"human\", \"{input}\"),\n",
    "    ]\n",
    ")"
   ]
  },
  {
   "cell_type": "code",
   "execution_count": 98,
   "id": "3f7ae005",
   "metadata": {},
   "outputs": [],
   "source": [
    "from langchain_core.runnables import RunnablePassthrough\n",
    "from langchain_core.output_parsers import StrOutputParser\n",
    "\n",
    "rag_chain = (\n",
    "    {\"context\": lambda x: retriever.invoke(x[\"input\"]), \"input\": RunnablePassthrough() }\n",
    "    | prompt\n",
    "    | llm\n",
    "    | StrOutputParser()\n",
    ")"
   ]
  },
  {
   "cell_type": "code",
   "execution_count": 99,
   "id": "ea526d52",
   "metadata": {},
   "outputs": [
    {
     "name": "stdout",
     "output_type": "stream",
     "text": [
      "```python\n",
      "from drone_actions import takeoff, moveByRollPitchYawThrottleAsync, land\n",
      "\n",
      "objects_list = []\n",
      "\n",
      "def mission():\n",
      "    # Step 0: Arm the drone (implicitly done by takeoff)\n",
      "    # Step 1: Take off\n",
      "    takeoff(timeout_sec=5)\n",
      "    # Step 2: Fly to 10 meters\n",
      "    moveByRollPitchYawThrottleAsync(roll=0, pitch=0, yaw=0, throttle=0.5, duration=5) # Assuming throttle 0.5 roughly corresponds to climbing\n",
      "    # Step 3: Land\n",
      "    land()\n",
      "```\n"
     ]
    }
   ],
   "source": [
    "response = rag_chain.invoke({\"input\": \"write a mission script to take off, fly to 10 meters, and land\"})\n",
    "print(response)"
   ]
  },
  {
   "cell_type": "code",
   "execution_count": 100,
   "id": "1add11be",
   "metadata": {},
   "outputs": [
    {
     "data": {
      "text/plain": [
       "'```python\\nfrom drone_actions import takeoff, moveByRollPitchYawThrottleAsync, land\\n\\nobjects_list = []\\n\\ndef mission():\\n    # Step 0: Arm the drone (implicitly done by takeoff)\\n    # Step 1: Take off\\n    takeoff(timeout_sec=5)\\n    # Step 2: Fly to 10 meters\\n    moveByRollPitchYawThrottleAsync(roll=0, pitch=0, yaw=0, throttle=0.5, duration=5) # Assuming throttle 0.5 roughly corresponds to climbing\\n    # Step 3: Land\\n    land()\\n```'"
      ]
     },
     "execution_count": 100,
     "metadata": {},
     "output_type": "execute_result"
    }
   ],
   "source": [
    "response"
   ]
  }
 ],
 "metadata": {
  "kernelspec": {
   "display_name": "dronerag-venv",
   "language": "python",
   "name": "python3"
  },
  "language_info": {
   "codemirror_mode": {
    "name": "ipython",
    "version": 3
   },
   "file_extension": ".py",
   "mimetype": "text/x-python",
   "name": "python",
   "nbconvert_exporter": "python",
   "pygments_lexer": "ipython3",
   "version": "3.12.0"
  }
 },
 "nbformat": 4,
 "nbformat_minor": 5
}
